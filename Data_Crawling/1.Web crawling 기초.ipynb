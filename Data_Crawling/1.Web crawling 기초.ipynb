{
 "cells": [
  {
   "cell_type": "code",
   "execution_count": 1,
   "id": "a9a982bd",
   "metadata": {},
   "outputs": [],
   "source": [
    "from selenium import webdriver"
   ]
  },
  {
   "cell_type": "code",
   "execution_count": 4,
   "id": "ec4c5882",
   "metadata": {},
   "outputs": [
    {
     "name": "stderr",
     "output_type": "stream",
     "text": [
      "<ipython-input-4-95f1113ba231>:1: DeprecationWarning: executable_path has been deprecated, please pass in a Service object\n",
      "  driver = webdriver.Chrome('C:/Users/김이현/Desktop/projects/data_analysis/Pyhon/실무_파이썬_예제/chromedriver.exe')\n"
     ]
    }
   ],
   "source": [
    "driver = webdriver.Chrome('chromedriver 파일 경로')"
   ]
  },
  {
   "cell_type": "code",
   "execution_count": 5,
   "id": "a36893d3",
   "metadata": {},
   "outputs": [],
   "source": [
    "url = 'https://www.naver.com/'\n",
    "driver.get(url)"
   ]
  },
  {
   "cell_type": "code",
   "execution_count": 6,
   "id": "0bdb42fa",
   "metadata": {},
   "outputs": [],
   "source": [
    "html = driver.page_source"
   ]
  },
  {
   "cell_type": "code",
   "execution_count": 12,
   "id": "bb0657b4",
   "metadata": {},
   "outputs": [],
   "source": [
    "html = '''\n",
    "<html>\n",
    "    <head>\n",
    "    </head>\n",
    "    <body>\n",
    "        <h1> 우리동네시장</h1>\n",
    "            <div class = 'sale'>\n",
    "                <p id='fruits1' class='fruits'>\n",
    "                    <span class = 'name'> 바나나 </span>\n",
    "                    <span class = 'price'> 3000원 </span>\n",
    "                    <span class = 'inventory'> 500개 </span>\n",
    "                    <span class = 'store'> 가나다상회 </span>\n",
    "                    <a href = 'http://bit.ly/forPlaywithData' > 홈페이지 </a>\n",
    "                </p>\n",
    "            </div>\n",
    "            <div class = 'prepare'>\n",
    "                <p id='fruits2' class='fruits'>\n",
    "                    <span class ='name'> 파인애플 </span>\n",
    "                </p>\n",
    "            </div>\n",
    "    </body>\n",
    "</html>\n",
    "'''"
   ]
  },
  {
   "cell_type": "code",
   "execution_count": 13,
   "id": "0dfe106d",
   "metadata": {},
   "outputs": [],
   "source": [
    "from bs4 import BeautifulSoup\n",
    "\n",
    "soup = BeautifulSoup(html, 'html.parser')"
   ]
  },
  {
   "cell_type": "code",
   "execution_count": 14,
   "id": "20b32934",
   "metadata": {},
   "outputs": [],
   "source": [
    "tags_span = soup.select('span')\n",
    "tags_p = soup.select('p')"
   ]
  },
  {
   "cell_type": "code",
   "execution_count": 15,
   "id": "5c9b6a17",
   "metadata": {},
   "outputs": [],
   "source": [
    "ids_fruits1 = soup.select('#fruits1')\n",
    "class_price = soup.select('.price')\n",
    "tags_span_class_price = soup.select('span.price')"
   ]
  },
  {
   "cell_type": "code",
   "execution_count": 16,
   "id": "2b0bc638",
   "metadata": {},
   "outputs": [
    {
     "name": "stdout",
     "output_type": "stream",
     "text": [
      "[<span class=\"name\"> 바나나 </span>, <span class=\"name\"> 파인애플 </span>]\n"
     ]
    }
   ],
   "source": [
    "tags_name = soup.select('span.name')\n",
    "print(tags_name)"
   ]
  },
  {
   "cell_type": "code",
   "execution_count": 17,
   "id": "cf7ae1a1",
   "metadata": {},
   "outputs": [
    {
     "name": "stdout",
     "output_type": "stream",
     "text": [
      "[<span class=\"name\"> 바나나 </span>]\n"
     ]
    }
   ],
   "source": [
    "tags_banana1 = soup.select('#fruits1 > span.name')\n",
    "print(tags_banana1)"
   ]
  },
  {
   "cell_type": "code",
   "execution_count": 18,
   "id": "d800ab18",
   "metadata": {},
   "outputs": [
    {
     "name": "stdout",
     "output_type": "stream",
     "text": [
      "[<span class=\"name\"> 바나나 </span>]\n",
      "[<span class=\"name\"> 바나나 </span>]\n"
     ]
    }
   ],
   "source": [
    "tags_banana2 = soup.select('div.sale > #fruits1 > span.name')\n",
    "tags_banana3 = soup.select('div.sale span.name')\n",
    "print(tags_banana2)\n",
    "print(tags_banana3)"
   ]
  },
  {
   "cell_type": "code",
   "execution_count": 19,
   "id": "0047726b",
   "metadata": {},
   "outputs": [
    {
     "name": "stdout",
     "output_type": "stream",
     "text": [
      "<span class=\"name\"> 바나나 </span>\n"
     ]
    }
   ],
   "source": [
    "tags = soup.select('span.name')\n",
    "tag_1 = tags[0]\n",
    "print(tag_1)"
   ]
  },
  {
   "cell_type": "code",
   "execution_count": 20,
   "id": "7de84b61",
   "metadata": {},
   "outputs": [
    {
     "name": "stdout",
     "output_type": "stream",
     "text": [
      "<span class=\"name\"> 바나나 </span>\n",
      "<span class=\"name\"> 파인애플 </span>\n"
     ]
    }
   ],
   "source": [
    "tags = soup.select('span.name')\n",
    "for tag in tags:\n",
    "    print(tag)"
   ]
  },
  {
   "cell_type": "code",
   "execution_count": 23,
   "id": "25345752",
   "metadata": {},
   "outputs": [
    {
     "name": "stdout",
     "output_type": "stream",
     "text": [
      " 홈페이지 \n",
      "http://bit.ly/forPlaywithData\n"
     ]
    }
   ],
   "source": [
    "tags = soup.select('a')\n",
    "tag = tags[0]\n",
    "content = tag.text\n",
    "print(content)\n",
    "link = tag['href']\n",
    "print(link)"
   ]
  },
  {
   "cell_type": "code",
   "execution_count": 24,
   "id": "db2b5477",
   "metadata": {},
   "outputs": [
    {
     "name": "stderr",
     "output_type": "stream",
     "text": [
      "<ipython-input-24-43bd3160d372>:3: DeprecationWarning: executable_path has been deprecated, please pass in a Service object\n",
      "  driver = webdriver.Chrome('C:/Users/김이현/Desktop/projects/data_analysis/Pyhon/실무_파이썬_예제/chromedriver.exe')\n"
     ]
    }
   ],
   "source": [
    "##멜론 노래 순위 정보 크롤링\n",
    "from selenium import webdriver\n",
    "driver = webdriver.Chrome('./chromedriver.exe')"
   ]
  },
  {
   "cell_type": "code",
   "execution_count": 25,
   "id": "46f83d6a",
   "metadata": {},
   "outputs": [],
   "source": [
    "url = 'http://www.melon.com/chart/index.htm'\n",
    "driver.get(url)"
   ]
  },
  {
   "cell_type": "code",
   "execution_count": 26,
   "id": "b0a0b586",
   "metadata": {},
   "outputs": [],
   "source": [
    "from bs4 import BeautifulSoup\n",
    "html = driver.page_source\n",
    "soup = BeautifulSoup(html, 'html.parser')"
   ]
  },
  {
   "cell_type": "code",
   "execution_count": 27,
   "id": "343eca68",
   "metadata": {},
   "outputs": [
    {
     "name": "stdout",
     "output_type": "stream",
     "text": [
      "100\n",
      "<tr class=\"lst50\" data-song-no=\"34997078\" id=\"lst50\">\n",
      "<td><div class=\"wrap t_right\"><input class=\"input_check\" name=\"input_check\" title=\"That That (prod. &amp; feat. SUGA of BTS) 곡 선택\" type=\"checkbox\" value=\"34997078\"/></div></td>\n",
      "<td><div class=\"wrap t_center\"><span class=\"rank\">1</span><span class=\"none\">위</span></div></td>\n",
      "<!-- 차트순위 추가 -->\n",
      "<td><div class=\"wrap\">\n",
      "<span class=\"rank_wrap\" title=\"순위 동일\">\n",
      "<span class=\"bullet_icons rank_static\"><span class=\"none\">순위 동일</span></span>\n",
      "<span class=\"none\">0</span>\n",
      "</span>\n",
      "</div></td>\n",
      "<td><div class=\"wrap\">\n",
      "<a class=\"image_typeAll\" href=\"javascript:melon.link.goAlbumDetail('10937474');\" title=\"싸다9\">\n",
      "<img alt=\"싸다9 - 페이지 이동\" height=\"60\" onerror=\"WEBPOCIMG.defaultAlbumImg(this);\" src=\"https://cdnimg.melon.co.kr/cm2/album/images/109/37/474/10937474_20220428225312_500.jpg/melon/resize/120/quality/80/optimize\" width=\"60\"/>\n",
      "<span class=\"bg_album_frame\"></span>\n",
      "</a>\n",
      "</div></td>\n",
      "<td><div class=\"wrap\">\n",
      "<a class=\"btn button_icons type03 song_info\" href=\"javascript:melon.link.goSongDetail('34997078');\" title=\"That That (prod. &amp; feat. SUGA of BTS) 곡정보\"><span class=\"none\">곡정보</span></a>\n",
      "</div></td>\n",
      "<td><div class=\"wrap\">\n",
      "<div class=\"wrap_song_info\">\n",
      "<div class=\"ellipsis rank01\"><span>\n",
      "<a href=\"javascript:melon.play.playSong('1000002721',34997078);\" title=\"That That (prod. &amp; feat. SUGA of BTS) 재생\">That That (prod. &amp; feat. SUGA of BTS)</a>\n",
      "</span></div><br/>\n",
      "<div class=\"ellipsis rank02\">\n",
      "<a href=\"javascript:melon.link.goArtistDetail('3865');\" title=\"싸이 (PSY) - 페이지 이동\">싸이 (PSY)</a><span class=\"checkEllipsis\" style=\"display: none;\"><a href=\"javascript:melon.link.goArtistDetail('3865');\" title=\"싸이 (PSY) - 페이지 이동\">싸이 (PSY)</a></span>\n",
      "</div>\n",
      "</div>\n",
      "</div></td>\n",
      "<td><div class=\"wrap\">\n",
      "<div class=\"wrap_song_info\">\n",
      "<div class=\"ellipsis rank03\">\n",
      "<a href=\"javascript:melon.link.goAlbumDetail('10937474');\" title=\"싸다9 - 페이지 이동\">싸다9</a>\n",
      "</div>\n",
      "</div>\n",
      "</div></td>\n",
      "<td><div class=\"wrap\">\n",
      "<button class=\"button_etc like\" data-song-menuid=\"1000002721\" data-song-no=\"34997078\" title=\"That That (prod. &amp; feat. SUGA of BTS) 좋아요\" type=\"button\"><span class=\"odd_span\">좋아요</span>\n",
      "<span class=\"cnt\">\n",
      "<span class=\"none\">총건수</span>\n",
      "76,426</span></button>\n",
      "</div></td>\n",
      "<td><div class=\"wrap t_center\">\n",
      "<button class=\"button_icons play\" onclick=\"melon.play.playSong('1000002721',34997078);\" title=\"듣기\" type=\"button\"><span class=\"none\">듣기</span></button>\n",
      "</div></td>\n",
      "<td><div class=\"wrap t_center\">\n",
      "<button class=\"button_icons scrap\" onclick=\"melon.play.addPlayList('34997078');\" title=\"담기\" type=\"button\"><span class=\"none\">담기</span></button>\n",
      "</div></td>\n",
      "<td><div class=\"wrap t_center\">\n",
      "<button class=\"button_icons download\" onclick=\"melon.buy.goBuyProduct('frm', '34997078', '3C0001', '','0', '1000002721');\" title=\"다운로드\" type=\"button\"><span class=\"none\">다운로드</span></button>\n",
      "</div></td>\n",
      "<td><div class=\"wrap t_center\">\n",
      "<button class=\"button_icons video\" onclick=\"melon.link.goMvDetail('1000002721', '34997078','song');\" title=\"뮤직비디오\" type=\"button\"><span class=\"none\">뮤직비디오</span></button>\n",
      "</div></td>\n",
      "</tr>\n"
     ]
    }
   ],
   "source": [
    "songs = soup.select('table > tbody > tr')\n",
    "print(len(songs))\n",
    "print(songs[0])"
   ]
  },
  {
   "cell_type": "code",
   "execution_count": 28,
   "id": "96e3f5cd",
   "metadata": {},
   "outputs": [
    {
     "data": {
      "text/plain": [
       "6"
      ]
     },
     "execution_count": 28,
     "metadata": {},
     "output_type": "execute_result"
    }
   ],
   "source": [
    "song = songs[0]\n",
    "\n",
    "title = song.select('a')\n",
    "len(title)"
   ]
  },
  {
   "cell_type": "code",
   "execution_count": 29,
   "id": "db4f020b",
   "metadata": {},
   "outputs": [
    {
     "data": {
      "text/plain": [
       "2"
      ]
     },
     "execution_count": 29,
     "metadata": {},
     "output_type": "execute_result"
    }
   ],
   "source": [
    "title = song.select('span > a')\n",
    "len(title)"
   ]
  },
  {
   "cell_type": "code",
   "execution_count": 30,
   "id": "01a86523",
   "metadata": {},
   "outputs": [
    {
     "data": {
      "text/plain": [
       "1"
      ]
     },
     "execution_count": 30,
     "metadata": {},
     "output_type": "execute_result"
    }
   ],
   "source": [
    "title = song.select('div.ellipsis.rank01 > span > a')\n",
    "len(title)"
   ]
  },
  {
   "cell_type": "code",
   "execution_count": 31,
   "id": "93b92099",
   "metadata": {},
   "outputs": [
    {
     "data": {
      "text/plain": [
       "'That That (prod. & feat. SUGA of BTS)'"
      ]
     },
     "execution_count": 31,
     "metadata": {},
     "output_type": "execute_result"
    }
   ],
   "source": [
    "title = song.select('div.ellipsis.rank01 > span > a')[0].text\n",
    "title"
   ]
  },
  {
   "cell_type": "code",
   "execution_count": 32,
   "id": "35ee329a",
   "metadata": {},
   "outputs": [
    {
     "data": {
      "text/plain": [
       "1"
      ]
     },
     "execution_count": 32,
     "metadata": {},
     "output_type": "execute_result"
    }
   ],
   "source": [
    "singer = song.select('div.ellipsis.rank02 > a')\n",
    "len(singer)"
   ]
  },
  {
   "cell_type": "code",
   "execution_count": 33,
   "id": "c6ed3eda",
   "metadata": {},
   "outputs": [
    {
     "data": {
      "text/plain": [
       "'싸이 (PSY)'"
      ]
     },
     "execution_count": 33,
     "metadata": {},
     "output_type": "execute_result"
    }
   ],
   "source": [
    "singer = song.select('div.ellipsis.rank02 > a')[0].text\n",
    "singer"
   ]
  },
  {
   "cell_type": "code",
   "execution_count": 34,
   "id": "3187132b",
   "metadata": {},
   "outputs": [
    {
     "name": "stdout",
     "output_type": "stream",
     "text": [
      "That That (prod. & feat. SUGA of BTS)|싸이 (PSY)\n",
      "TOMBOY|(여자)아이들\n",
      "LOVE DIVE|IVE (아이브)\n",
      "봄여름가을겨울 (Still Life)|BIGBANG (빅뱅)\n",
      "사랑인가 봐|멜로망스\n",
      "정이라고 하자 (Feat. 10CM)|BIG Naughty (서동현)\n",
      "사랑은 늘 도망가|임영웅\n",
      "나의 X에게|경서\n",
      "우리들의 블루스|임영웅\n",
      "다시 만날 수 있을까|임영웅\n",
      "LOVE me|BE'O (비오)\n",
      "Feel My Rhythm|Red Velvet (레드벨벳)\n",
      "FEARLESS|LE SSERAFIM (르세라핌)\n",
      "취중고백|김민석 (멜로망스)\n",
      "GANADARA (Feat. 아이유)|박재범\n",
      "ZOOM|제시 (Jessi)\n",
      "이제 나만 믿어요|임영웅\n",
      "무지개|임영웅\n",
      "INVU|태연 (TAEYEON)\n",
      "아버지|임영웅\n",
      "ELEVEN|IVE (아이브)\n",
      "신호등|이무진\n",
      "손이 참 곱던 그대|임영웅\n",
      "듣고 싶을까|MSG워너비(M.O.M)\n",
      "A bientot|임영웅\n",
      "다정히 내 이름을 부르면|경서예지\n",
      "MY BAG|(여자)아이들\n",
      "사랑해 진짜|임영웅\n",
      "연애편지|임영웅\n",
      "인생찬가|임영웅\n",
      "사랑역|임영웅\n",
      "That's Hilarious|Charlie Puth\n",
      "STAY|The Kid LAROI\n",
      "보금자리|임영웅\n",
      "사랑해요 그대를|임영웅\n",
      "너를 생각해|주시크 (Joosiq)\n",
      "SMILEY (Feat. BIBI)|YENA (최예나)\n",
      "Next Level|aespa\n",
      "내가 아니라도|주호\n",
      "언제나 사랑해|케이시 (Kassy)\n",
      "회전목마 (Feat. Zion.T, 원슈타인) (Prod. Slom)|sokodomo\n",
      "Weekend|태연 (TAEYEON)\n",
      "Dynamite|방탄소년단\n",
      "RUN2U|STAYC(스테이씨)\n",
      "드라마|아이유\n",
      "아무래도 난|주시크 (Joosiq)\n",
      "리무진 (Feat. MINO) (Prod. GRAY)|BE'O (비오)\n",
      "Seoul|볼빨간사춘기\n",
      "Butter|방탄소년단\n",
      "strawberry moon|아이유\n",
      "너의 모든 순간|성시경\n",
      "Celeb|싸이 (PSY)\n",
      "스물다섯, 스물하나|자우림\n",
      "Permission to Dance|방탄소년단\n",
      "내 손을 잡아|아이유\n",
      "OHAYO MY NIGHT|디핵 (D-Hack)\n",
      "늦은 밤 헤어지긴 너무 아쉬워|케이시 (Kassy)\n",
      "라일락|아이유\n",
      "Step Back|GOT the beat\n",
      "호랑수월가|탑현\n",
      "바라만 본다|MSG워너비(M.O.M)\n",
      "눈이 오잖아(Feat.헤이즈)|이무진\n",
      "With you|지민\n",
      "Counting Stars (Feat. Beenzino)|BE'O (비오)\n",
      "Savage|aespa\n",
      "물고기|백예린 (Yerin Baek)\n",
      "문득|BE'O (비오)\n",
      "사이렌 Remix (Feat. UNEDUCATED KID, Paul Blanco)|호미들\n",
      "Bad Habits|Ed Sheeran\n",
      "미친 것처럼|V.O.S\n",
      "존재만으로|원슈타인\n",
      "Celebrity|아이유\n",
      "밤하늘의 별을(2020)|경서\n",
      "Off My Face|Justin Bieber\n",
      "팡파레|다비치\n",
      "고백|멜로망스\n",
      "찰나가 영원이 될 때 (The Eternal Moment)|마크툽 (MAKTUB)\n",
      "Blueming|아이유\n",
      "봄날|방탄소년단\n",
      "모든 날, 모든 순간 (Every day, Every Moment)|폴킴\n",
      "사랑인걸|한동근\n",
      "My Universe|Coldplay\n",
      "헤픈 우연|헤이즈 (Heize)\n",
      "롤린 (Rollin')|브레이브걸스\n",
      "Dun Dun Dance|오마이걸 (OH MY GIRL)\n",
      "너, 너 (N번째 연애 X 휘인 (Whee In))|휘인 (Whee In)\n",
      "Dreams Come True|aespa\n",
      "만남은 쉽고 이별은 어려워 (Feat. Leellamarz) (Prod. TOIL)|베이식 (Basick)\n",
      "어떻게 이별까지 사랑하겠어, 널 사랑하는 거지|AKMU (악뮤)\n",
      "초대|멜로망스\n",
      "감동이야 (feat. 성시경)|싸이 (PSY)\n",
      "abcdefu|GAYLE\n",
      "어제처럼|폴킴\n",
      "Real Love|오마이걸 (OH MY GIRL)\n",
      "서랍|10CM\n",
      "낙하 (with 아이유)|AKMU (악뮤)\n",
      "나는 트로트가 싫어요|임창정\n",
      "Starlight|태일 (TAEIL)\n",
      "너의 번호를 누르고|김나영\n",
      "Christmas Tree|V\n"
     ]
    }
   ],
   "source": [
    "for song in songs:\n",
    "    title = song.select('div.ellipsis.rank01 > span > a')[0].text\n",
    "    singer = song.select('div.ellipsis.rank02 > a')[0].text\n",
    "    print(title, singer, sep = '|')"
   ]
  },
  {
   "cell_type": "code",
   "execution_count": 35,
   "id": "be6c106d",
   "metadata": {},
   "outputs": [
    {
     "name": "stderr",
     "output_type": "stream",
     "text": [
      "<ipython-input-35-b3b28891b1d6>:2: DeprecationWarning: executable_path has been deprecated, please pass in a Service object\n",
      "  driver = webdriver.Chrome('C:/Users/김이현/Desktop/projects/data_analysis/Pyhon/실무_파이썬_예제/chromedriver.exe')\n"
     ]
    },
    {
     "name": "stdout",
     "output_type": "stream",
     "text": [
      "That That (prod. & feat. SUGA of BTS)|싸이 (PSY)\n",
      "TOMBOY|(여자)아이들\n",
      "LOVE DIVE|IVE (아이브)\n",
      "봄여름가을겨울 (Still Life)|BIGBANG (빅뱅)\n",
      "사랑인가 봐|멜로망스\n",
      "정이라고 하자 (Feat. 10CM)|BIG Naughty (서동현)\n",
      "사랑은 늘 도망가|임영웅\n",
      "나의 X에게|경서\n",
      "우리들의 블루스|임영웅\n",
      "다시 만날 수 있을까|임영웅\n",
      "LOVE me|BE'O (비오)\n",
      "Feel My Rhythm|Red Velvet (레드벨벳)\n",
      "FEARLESS|LE SSERAFIM (르세라핌)\n",
      "취중고백|김민석 (멜로망스)\n",
      "GANADARA (Feat. 아이유)|박재범\n",
      "ZOOM|제시 (Jessi)\n",
      "이제 나만 믿어요|임영웅\n",
      "무지개|임영웅\n",
      "INVU|태연 (TAEYEON)\n",
      "아버지|임영웅\n",
      "ELEVEN|IVE (아이브)\n",
      "신호등|이무진\n",
      "손이 참 곱던 그대|임영웅\n",
      "듣고 싶을까|MSG워너비(M.O.M)\n",
      "A bientot|임영웅\n",
      "다정히 내 이름을 부르면|경서예지\n",
      "MY BAG|(여자)아이들\n",
      "사랑해 진짜|임영웅\n",
      "연애편지|임영웅\n",
      "인생찬가|임영웅\n",
      "사랑역|임영웅\n",
      "That's Hilarious|Charlie Puth\n",
      "STAY|The Kid LAROI\n",
      "보금자리|임영웅\n",
      "사랑해요 그대를|임영웅\n",
      "너를 생각해|주시크 (Joosiq)\n",
      "SMILEY (Feat. BIBI)|YENA (최예나)\n",
      "Next Level|aespa\n",
      "내가 아니라도|주호\n",
      "언제나 사랑해|케이시 (Kassy)\n",
      "회전목마 (Feat. Zion.T, 원슈타인) (Prod. Slom)|sokodomo\n",
      "Weekend|태연 (TAEYEON)\n",
      "Dynamite|방탄소년단\n",
      "RUN2U|STAYC(스테이씨)\n",
      "드라마|아이유\n",
      "아무래도 난|주시크 (Joosiq)\n",
      "리무진 (Feat. MINO) (Prod. GRAY)|BE'O (비오)\n",
      "Seoul|볼빨간사춘기\n",
      "Butter|방탄소년단\n",
      "strawberry moon|아이유\n",
      "너의 모든 순간|성시경\n",
      "Celeb|싸이 (PSY)\n",
      "스물다섯, 스물하나|자우림\n",
      "Permission to Dance|방탄소년단\n",
      "내 손을 잡아|아이유\n",
      "OHAYO MY NIGHT|디핵 (D-Hack)\n",
      "늦은 밤 헤어지긴 너무 아쉬워|케이시 (Kassy)\n",
      "라일락|아이유\n",
      "Step Back|GOT the beat\n",
      "호랑수월가|탑현\n",
      "바라만 본다|MSG워너비(M.O.M)\n",
      "눈이 오잖아(Feat.헤이즈)|이무진\n",
      "With you|지민\n",
      "Counting Stars (Feat. Beenzino)|BE'O (비오)\n",
      "Savage|aespa\n",
      "물고기|백예린 (Yerin Baek)\n",
      "문득|BE'O (비오)\n",
      "사이렌 Remix (Feat. UNEDUCATED KID, Paul Blanco)|호미들\n",
      "Bad Habits|Ed Sheeran\n",
      "미친 것처럼|V.O.S\n",
      "존재만으로|원슈타인\n",
      "Celebrity|아이유\n",
      "밤하늘의 별을(2020)|경서\n",
      "Off My Face|Justin Bieber\n",
      "팡파레|다비치\n",
      "고백|멜로망스\n",
      "찰나가 영원이 될 때 (The Eternal Moment)|마크툽 (MAKTUB)\n",
      "Blueming|아이유\n",
      "봄날|방탄소년단\n",
      "모든 날, 모든 순간 (Every day, Every Moment)|폴킴\n",
      "사랑인걸|한동근\n",
      "My Universe|Coldplay\n",
      "헤픈 우연|헤이즈 (Heize)\n",
      "롤린 (Rollin')|브레이브걸스\n",
      "Dun Dun Dance|오마이걸 (OH MY GIRL)\n",
      "너, 너 (N번째 연애 X 휘인 (Whee In))|휘인 (Whee In)\n",
      "Dreams Come True|aespa\n",
      "만남은 쉽고 이별은 어려워 (Feat. Leellamarz) (Prod. TOIL)|베이식 (Basick)\n",
      "어떻게 이별까지 사랑하겠어, 널 사랑하는 거지|AKMU (악뮤)\n",
      "초대|멜로망스\n",
      "감동이야 (feat. 성시경)|싸이 (PSY)\n",
      "abcdefu|GAYLE\n",
      "어제처럼|폴킴\n",
      "Real Love|오마이걸 (OH MY GIRL)\n",
      "서랍|10CM\n",
      "낙하 (with 아이유)|AKMU (악뮤)\n",
      "나는 트로트가 싫어요|임창정\n",
      "Starlight|태일 (TAEIL)\n",
      "너의 번호를 누르고|김나영\n",
      "Christmas Tree|V\n"
     ]
    }
   ],
   "source": [
    "#멜론 인기차트 중 상위 100곡 크롤링(정리)\n",
    "driver = webdriver.Chrome('./chromedriver.exe')\n",
    "url = 'http://www.melon.com/chart/index.htm'\n",
    "driver.get(url)\n",
    "\n",
    "html = driver.page_source\n",
    "soup = BeautifulSoup(html, 'html.parser')\n",
    "\n",
    "songs = soup.select('table > tbody > tr')\n",
    "for song in songs:\n",
    "    title = song.select('div.ellipsis.rank01 > span > a')[0].text\n",
    "    singer = song.select('div.ellipsis.rank02 > a')[0].text\n",
    "    print(title, singer, sep = '|')"
   ]
  },
  {
   "cell_type": "code",
   "execution_count": 38,
   "id": "4aae1c96",
   "metadata": {},
   "outputs": [
    {
     "name": "stderr",
     "output_type": "stream",
     "text": [
      "<ipython-input-38-d5fc211b813b>:2: DeprecationWarning: executable_path has been deprecated, please pass in a Service object\n",
      "  driver = webdriver.Chrome('C:/Users/김이현/Desktop/projects/data_analysis/Pyhon/실무_파이썬_예제/chromedriver.exe')\n",
      "<ipython-input-38-d5fc211b813b>:6: DeprecationWarning: find_elements_by_css_selector is deprecated. Please use find_elements(by=By.CSS_SELECTOR, value=css_selector) instead\n",
      "  songs = driver.find_elements_by_css_selector('table > tbody > tr')\n",
      "C:\\anaconda3\\lib\\site-packages\\selenium\\webdriver\\remote\\webelement.py:502: UserWarning: find_elements_by_css_selector is deprecated. Please use find_elements(by=By.CSS_SELECTOR, value=css_selector) instead\n",
      "  warnings.warn(\"find_elements_by_css_selector is deprecated. Please use find_elements(by=By.CSS_SELECTOR, value=css_selector) instead\")\n"
     ]
    },
    {
     "name": "stdout",
     "output_type": "stream",
     "text": [
      "That That (prod. & feat. SUGA of BTS)|싸이 (PSY)\n",
      "TOMBOY|(여자)아이들\n",
      "LOVE DIVE|IVE (아이브)\n",
      "봄여름가을겨울 (Still Life)|BIGBANG (빅뱅)\n",
      "사랑인가 봐|멜로망스\n",
      "정이라고 하자 (Feat. 10CM)|BIG Naughty (서동현)\n",
      "사랑은 늘 도망가|임영웅\n",
      "나의 X에게|경서\n",
      "우리들의 블루스|임영웅\n",
      "다시 만날 수 있을까|임영웅\n",
      "LOVE me|BE'O (비오)\n",
      "Feel My Rhythm|Red Velvet (레드벨벳)\n",
      "FEARLESS|LE SSERAFIM (르세라핌)\n",
      "취중고백|김민석 (멜로망스)\n",
      "GANADARA (Feat. 아이유)|박재범\n",
      "ZOOM|제시 (Jessi)\n",
      "이제 나만 믿어요|임영웅\n",
      "무지개|임영웅\n",
      "INVU|태연 (TAEYEON)\n",
      "아버지|임영웅\n",
      "ELEVEN|IVE (아이브)\n",
      "신호등|이무진\n",
      "손이 참 곱던 그대|임영웅\n",
      "듣고 싶을까|MSG워너비(M.O.M)\n",
      "A bientot|임영웅\n",
      "다정히 내 이름을 부르면|경서예지\n",
      "MY BAG|(여자)아이들\n",
      "사랑해 진짜|임영웅\n",
      "연애편지|임영웅\n",
      "인생찬가|임영웅\n",
      "사랑역|임영웅\n",
      "That's Hilarious|Charlie Puth\n",
      "STAY|The Kid LAROI\n",
      "보금자리|임영웅\n",
      "사랑해요 그대를|임영웅\n",
      "너를 생각해|주시크 (Joosiq)\n",
      "SMILEY (Feat. BIBI)|YENA (최예나)\n",
      "Next Level|aespa\n",
      "내가 아니라도|주호\n",
      "언제나 사랑해|케이시 (Kassy)\n",
      "회전목마 (Feat. Zion.T, 원슈타인) (Prod. Slom)|sokodomo\n",
      "Weekend|태연 (TAEYEON)\n",
      "Dynamite|방탄소년단\n",
      "RUN2U|STAYC(스테이씨)\n",
      "드라마|아이유\n",
      "아무래도 난|주시크 (Joosiq)\n",
      "리무진 (Feat. MINO) (Prod. GRAY)|BE'O (비오)\n",
      "Seoul|볼빨간사춘기\n",
      "Butter|방탄소년단\n",
      "strawberry moon|아이유\n",
      "너의 모든 순간|성시경\n",
      "Celeb|싸이 (PSY)\n",
      "스물다섯, 스물하나|자우림\n",
      "Permission to Dance|방탄소년단\n",
      "내 손을 잡아|아이유\n",
      "OHAYO MY NIGHT|디핵 (D-Hack)\n",
      "늦은 밤 헤어지긴 너무 아쉬워|케이시 (Kassy)\n",
      "라일락|아이유\n",
      "Step Back|GOT the beat\n",
      "호랑수월가|탑현\n",
      "바라만 본다|MSG워너비(M.O.M)\n",
      "눈이 오잖아(Feat.헤이즈)|이무진\n",
      "With you|지민\n",
      "Counting Stars (Feat. Beenzino)|BE'O (비오)\n",
      "Savage|aespa\n",
      "물고기|백예린 (Yerin Baek)\n",
      "문득|BE'O (비오)\n",
      "사이렌 Remix (Feat. UNEDUCATED KID, Paul Blanco)|호미들\n",
      "Bad Habits|Ed Sheeran\n",
      "미친 것처럼|V.O.S\n",
      "존재만으로|원슈타인\n",
      "Celebrity|아이유\n",
      "밤하늘의 별을(2020)|경서\n",
      "Off My Face|Justin Bieber\n",
      "팡파레|다비치\n",
      "고백|멜로망스\n",
      "찰나가 영원이 될 때 (The Eternal Moment)|마크툽 (MAKTUB)\n",
      "Blueming|아이유\n",
      "봄날|방탄소년단\n",
      "모든 날, 모든 순간 (Every day, Every Moment)|폴킴\n",
      "사랑인걸|한동근\n",
      "My Universe|Coldplay\n",
      "헤픈 우연|헤이즈 (Heize)\n",
      "롤린 (Rollin')|브레이브걸스\n",
      "Dun Dun Dance|오마이걸 (OH MY GIRL)\n",
      "너, 너 (N번째 연애 X 휘인 (Whee In))|휘인 (Whee In)\n",
      "Dreams Come True|aespa\n",
      "만남은 쉽고 이별은 어려워 (Feat. Leellamarz) (Prod. TOIL)|베이식 (Basick)\n",
      "어떻게 이별까지 사랑하겠어, 널 사랑하는 거지|AKMU (악뮤)\n",
      "초대|멜로망스\n",
      "감동이야 (feat. 성시경)|싸이 (PSY)\n",
      "abcdefu|GAYLE\n",
      "어제처럼|폴킴\n",
      "Real Love|오마이걸 (OH MY GIRL)\n",
      "서랍|10CM\n",
      "낙하 (with 아이유)|AKMU (악뮤)\n",
      "나는 트로트가 싫어요|임창정\n",
      "Starlight|태일 (TAEIL)\n",
      "너의 번호를 누르고|김나영\n",
      "Christmas Tree|V\n"
     ]
    }
   ],
   "source": [
    "#멜론 인기차트 중 100곡 크롤링(selenium만 활용)\n",
    "driver = webdriver.Chrome('C:/Users/김이현/Desktop/projects/data_analysis/Pyhon/실무_파이썬_예제/chromedriver.exe')\n",
    "url = 'http://www.melon.com/chart/index.htm'\n",
    "driver.get(url)\n",
    "\n",
    "songs = driver.find_elements_by_css_selector('table > tbody > tr')\n",
    "for song in songs:\n",
    "    title = song.find_elements_by_css_selector('div.ellipsis.rank01 > span > a')[0].text\n",
    "    singer = song.find_elements_by_css_selector('div.ellipsis.rank02 > a')[0].text\n",
    "    print(title, singer, sep = '|')"
   ]
  },
  {
   "cell_type": "code",
   "execution_count": null,
   "id": "5d10c4d8",
   "metadata": {},
   "outputs": [],
   "source": []
  }
 ],
 "metadata": {
  "kernelspec": {
   "display_name": "Python 3",
   "language": "python",
   "name": "python3"
  },
  "language_info": {
   "codemirror_mode": {
    "name": "ipython",
    "version": 3
   },
   "file_extension": ".py",
   "mimetype": "text/x-python",
   "name": "python",
   "nbconvert_exporter": "python",
   "pygments_lexer": "ipython3",
   "version": "3.8.8"
  }
 },
 "nbformat": 4,
 "nbformat_minor": 5
}
