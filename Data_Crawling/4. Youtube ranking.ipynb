{
 "cells": [
  {
   "cell_type": "code",
   "execution_count": 1,
   "id": "f75c9662",
   "metadata": {},
   "outputs": [],
   "source": [
    "from selenium import webdriver\n",
    "from bs4 import BeautifulSoup\n",
    "import time\n",
    "import pandas as pd"
   ]
  },
  {
   "cell_type": "code",
   "execution_count": 2,
   "id": "f365d9a2",
   "metadata": {},
   "outputs": [
    {
     "name": "stderr",
     "output_type": "stream",
     "text": [
      "<ipython-input-2-aaf67d93740e>:1: DeprecationWarning: executable_path has been deprecated, please pass in a Service object\n",
      "  browser = webdriver.Chrome('C:/Users/김이현/Desktop/projects/data_analysis/Pyhon/실무_파이썬_예제/chromedriver.exe')\n"
     ]
    }
   ],
   "source": [
    "#유튭브 데이터 수집\n",
    "browser = webdriver.Chrome('./chromedriver.exe')\n",
    "url = \"https://youtube-rank.com/board/bbs/board.php?bo_table=youtube\"\n",
    "browser.get(url)"
   ]
  },
  {
   "cell_type": "code",
   "execution_count": 3,
   "id": "885bceca",
   "metadata": {},
   "outputs": [],
   "source": [
    "html = browser.page_source\n",
    "soup = BeautifulSoup(html, 'html.parser')"
   ]
  },
  {
   "cell_type": "code",
   "execution_count": 5,
   "id": "2870990c",
   "metadata": {},
   "outputs": [
    {
     "name": "stdout",
     "output_type": "stream",
     "text": [
      "102 \n",
      "\n",
      "<tr>\n",
      "<th class=\"rank\"><a href=\"/board/bbs/board.php?bo_table=youtube&amp;sop=and&amp;sst=rank&amp;sod=desc&amp;sfl=&amp;stx=&amp;sca=&amp;page=1\">순위 <i aria-hidden=\"true\" class=\"fa fa-sort\"></i></a></th>\n",
      "<th class=\"td_img\">이미지</th>\n",
      "<th class=\"subject\">제목</th>\n",
      "<th class=\"subscriber_cnt\"><a href=\"/board/bbs/board.php?bo_table=youtube&amp;sop=and&amp;sst=subscriber_cnt&amp;sod=desc&amp;sfl=&amp;stx=&amp;sca=&amp;page=1\">구독자순 <i aria-hidden=\"true\" class=\"fa fa-sort\"></i></a></th>\n",
      "<th class=\"view_cnt\"><a href=\"/board/bbs/board.php?bo_table=youtube&amp;sop=and&amp;sst=view_cnt&amp;sod=desc&amp;sfl=&amp;stx=&amp;sca=&amp;page=1\">View순 <i aria-hidden=\"true\" class=\"fa fa-sort\"></i></a></th>\n",
      "<th class=\"video_cnt\"><a href=\"/board/bbs/board.php?bo_table=youtube&amp;sop=and&amp;sst=video_cnt&amp;sod=desc&amp;sfl=&amp;stx=&amp;sca=&amp;page=1\">Video순 <i aria-hidden=\"true\" class=\"fa fa-sort\"></i></a></th>\n",
      "<th class=\"hit\"><a href=\"/board/bbs/board.php?bo_table=youtube&amp;sop=and&amp;sst=wr_hit&amp;sod=desc&amp;sfl=&amp;stx=&amp;sca=&amp;page=1\">조회수 <i aria-hidden=\"true\" class=\"fa fa-sort\"></i></a></th>\n",
      "</tr>\n"
     ]
    }
   ],
   "source": [
    "channel_list = soup.select('tr')\n",
    "print(len(channel_list), '\\n')\n",
    "print(channel_list[0])"
   ]
  },
  {
   "cell_type": "code",
   "execution_count": 7,
   "id": "c083395b",
   "metadata": {},
   "outputs": [
    {
     "name": "stdout",
     "output_type": "stream",
     "text": [
      "100\n"
     ]
    }
   ],
   "source": [
    "channel_list = soup.select('form > table > tbody > tr')\n",
    "print(len(channel_list))"
   ]
  },
  {
   "cell_type": "code",
   "execution_count": 8,
   "id": "6f72abf7",
   "metadata": {},
   "outputs": [
    {
     "name": "stdout",
     "output_type": "stream",
     "text": [
      "<tr class=\"aos-init aos-animate\" data-aos=\"fade-up\" data-aos-duration=\"800\">\n",
      "<td class=\"rank\">\n",
      "                        1                    </td>\n",
      "<td class=\"td_img\">\n",
      "<div class=\"info_img\"><a href=\"https://youtube-rank.com/board/bbs/board.php?bo_table=youtube&amp;wr_id=3203\"><img class=\"lazyload\" data-src=\"https://yt3.ggpht.com/ytc/AKedOLTyoe1McP_IhmAA09N0JCVZCx_naUBUUQCs5F_0Ug=s88-c-k-c0x00ffffff-no-rj-mo\" height=\"88\" src=\"https://yt3.ggpht.com/ytc/AKedOLTyoe1McP_IhmAA09N0JCVZCx_naUBUUQCs5F_0Ug=s88-c-k-c0x00ffffff-no-rj-mo\" width=\"88\"/></a></div>\n",
      "<p class=\"info_rank\">1</p>\n",
      "</td>\n",
      "<td class=\"subject\">\n",
      "<h1>\n",
      "<p <a=\"\" class=\"category\" href=\"https://youtube-rank.com/board/bbs/board.php?bo_table=youtube&amp;sca=%EC%9D%8C%EC%95%85%2F%EB%8C%84%EC%8A%A4%2F%EA%B0%80%EC%88%98\">[음악/댄스/가수]\n",
      "                                \n",
      "                                </p>\n",
      "<a href=\"https://youtube-rank.com/board/bbs/board.php?bo_table=youtube&amp;wr_id=3203\">\n",
      "\t\t\t\t\t\t\t\t\n",
      "\t\t\t\t\t\t\t\tBLACKPINK\t\t\t\t\t\t\t</a>\n",
      "<span>\n",
      "<i class=\"fa fa-comment\"></i>\n",
      "\t\t\t\t\t\t\t\t1\t\t\t\t\t\t\t</span>\n",
      "<i aria-hidden=\"true\" class=\"fa fa-heart\"></i> </h1>\n",
      "<h2><span><a href=\"https://youtube-rank.com/board/bbs/board.php?bo_table=youtube&amp;wr_id=3203\">\"YG Entertainment\" YG 와이지 K-pop BLACKPINK 블랙핑크 블핑 제니 로제 리사 지수 Lisa Jisoo Jennie ...</a></span></h2>\n",
      "<h3>\n",
      "<i class=\"fa fa-user\"></i>\n",
      "                            7430만<i class=\"fa fa-play\"></i>237억7052만                            <i class=\"fa fa-video-camera\"></i>\n",
      "                            394                            <i class=\"fa fa-eye\"></i>\n",
      "                            20,913                        </h3>\n",
      "</td>\n",
      "<td class=\"subscriber_cnt\">7430만</td>\n",
      "<td class=\"view_cnt\">237억7052만</td>\n",
      "<td class=\"video_cnt\">394개</td>\n",
      "<td class=\"hit\">\n",
      "<strong>20,913</strong>\n",
      "<span>HIT</span>\n",
      "</td>\n",
      "</tr>\n"
     ]
    }
   ],
   "source": [
    "channel = channel_list[0]\n",
    "print(channel)"
   ]
  },
  {
   "cell_type": "code",
   "execution_count": 9,
   "id": "79048a74",
   "metadata": {},
   "outputs": [
    {
     "name": "stdout",
     "output_type": "stream",
     "text": [
      "[음악/댄스/가수]\n"
     ]
    }
   ],
   "source": [
    "category = channel.select('p.category')[0].text.strip()\n",
    "print(category)"
   ]
  },
  {
   "cell_type": "code",
   "execution_count": 10,
   "id": "0dffa69d",
   "metadata": {},
   "outputs": [
    {
     "name": "stdout",
     "output_type": "stream",
     "text": [
      "BLACKPINK\n"
     ]
    }
   ],
   "source": [
    "title = channel.select('h1 > a')[0].text.strip()\n",
    "print(title)"
   ]
  },
  {
   "cell_type": "code",
   "execution_count": 11,
   "id": "8a4e5ea4",
   "metadata": {},
   "outputs": [
    {
     "name": "stdout",
     "output_type": "stream",
     "text": [
      "7430만\n",
      "237억7052만\n",
      "394개\n"
     ]
    }
   ],
   "source": [
    "subscriber = channel.select('.subscriber_cnt')[0].text\n",
    "view = channel.select('.view_cnt')[0].text\n",
    "video = channel.select('.video_cnt')[0].text\n",
    "\n",
    "print(subscriber)\n",
    "print(view)\n",
    "print(video)"
   ]
  },
  {
   "cell_type": "code",
   "execution_count": 13,
   "id": "c74f9f1a",
   "metadata": {},
   "outputs": [
    {
     "name": "stdout",
     "output_type": "stream",
     "text": [
      "BLACKPINK [음악/댄스/가수] 7430만 237억7052만 394개\n",
      "BANGTANTV [음악/댄스/가수] 6650만 162억3917만 1,695개\n",
      "HYBE LABELS [음악/댄스/가수] 6560만 227억4224만 872개\n",
      "SMTOWN [음악/댄스/가수] 3040만 245억4970만 3,910개\n",
      "Boram Tube Vlog [보람튜브 브이로그] [키즈/어린이] 2650만 110억5288만 223개\n",
      "1MILLION Dance Studio [음악/댄스/가수] 2530만 72억7917만 3,967개\n",
      "JYP Entertainment [음악/댄스/가수] 2450만 164억6638만 1,471개\n",
      "1theK (원더케이) [음악/댄스/가수] 2410만 222억5203만 16,553개\n",
      "Mnet K-POP [음악/댄스/가수] 1950만 150억3073만 28,425개\n",
      "KBS WORLD TV [TV/방송] 1780만 136억0527만 57,187개\n",
      "JFlaMusic [음악/댄스/가수] 1760만 36억1676만 282개\n",
      "officialpsy [음악/댄스/가수] 1690만 94억7052만 114개\n",
      "Jane ASMR 제인 [음식/요리/레시피] 1650만 62억3403만 1,471개\n",
      "BIGBANG [음악/댄스/가수] 1470만 72억3087만 776개\n",
      "TWICE [음악/댄스/가수] 1380만 33억9656만 794개\n",
      "Hongyu ASMR 홍유 [음식/요리/레시피] 1280만 38억8711만 482개\n",
      "Kendrick Lamar [미분류] 1090만 45억7164만 19개\n",
      "TheWeekndVEVO [미분류] 1060만 146억1463만 132개\n",
      "Nao FunFun [키즈/어린이] 1060만 463만 55개\n",
      "핑크퐁 (인기 동요・동화) [키즈/어린이] 1060만 64억8836만 2,620개\n",
      "Stone Music Entertainment [음악/댄스/가수] 1040만 87억6686만 8,781개\n",
      "DuDuPopTOY [키즈/어린이] 1040만 47억5248만 2,120개\n",
      "Toymong tv 토이몽TV [키즈/어린이] 1000만 41억6759만 2,048개\n",
      "MBCkpop [TV/방송] 987만 80억6522만 42,954개\n",
      "Larva TUBA [키즈/어린이] 969만 42억6874만 2,834개\n",
      "[햄지]Hamzy [음식/요리/레시피] 965만 30억2012만 425개\n",
      "Stray Kids [음악/댄스/가수] 954만 18억0302만 591개\n",
      "서은이야기[SeoeunStory] [키즈/어린이] 943만 32억5436만 1,081개\n",
      "TOMORROW X TOGETHER OFFICIAL [음악/댄스/가수] 918만 7억8122만 1,082개\n",
      "Mnet TV [음악/댄스/가수] 887만 107억5283만 20,200개\n",
      "EXO [음악/댄스/가수] 882만 6억2845만 272개\n",
      "MBCentertainment [뉴스/정치/사회] 872만 157억5735만 91,239개\n",
      "iKON [음악/댄스/가수] 865만 22억9779만 560개\n",
      "Serie A [해외] 828만 29억5204만 22,989개\n",
      "M2 [TV/방송] 827만 66억2945만 16,220개\n",
      "쏘영 Ssoyoung [음식/요리/레시피] 815만 9억4896만 596개\n",
      "문복희 Eat with Boki [음식/요리/레시피] 780만 19억5381만 571개\n",
      "SEVENTEEN [음악/댄스/가수] 773만 27억8213만 1,103개\n",
      "MariAndKids [키즈/어린이] 762만 23억5093만 810개\n",
      "이지금 [IU Official] [음악/댄스/가수] 757만 14억9897만 143개\n",
      "JTBC Entertainment [뉴스/정치/사회] 733만 108억0531만 70,564개\n",
      "SonicToy소닉토이 [키즈/어린이] 729만 30억7287만 166개\n",
      "ITZY [음악/댄스/가수] 721만 14억9703만 605개\n",
      "KBS Kpop [TV/방송] 692만 56억4436만 33,171개\n",
      "Sungha Jung [음악/댄스/가수] 692만 19억2776만 1,324개\n",
      "Pixar [미분류] 679만 34억0557만 725개\n",
      "YG ENTERTAINMENT [음악/댄스/가수] 672만 17억0870만 397개\n",
      "MAMAMOO [음악/댄스/가수] 667만 20억3305만 701개\n",
      "ALL THE K-POP [음악/댄스/가수] 666만 42억2419만 22,855개\n",
      "야미보이 Yummyboy [음식/요리/레시피] 661만 25억4836만 955개\n",
      "스브스케이팝 / SBS KPOP [TV/방송] 656만 48억4062만 29,772개\n",
      "SBS Entertainment [TV/방송] 640만 78억3062만 221,351개\n",
      "미니특공대TV [키즈/어린이] 630만 35억4580만 1,278개\n",
      "GOT7 [음악/댄스/가수] 624만 8억2237만 579개\n",
      "tvN drama [TV/방송] 623만 66억6500만 41,874개\n",
      "tzuyang쯔양 [음식/요리/레시피] 620만 11억9300만 373개\n",
      "Samsung [회사/오피셜] 613만 15억4352만 1,754개\n",
      "SBS Drama [TV/방송] 612만 65억2257만 342,824개\n",
      "[장난감티비]TOYTV [키즈/어린이] 610만 27억8853만 1,527개\n",
      "TREASURE (트레저) [음악/댄스/가수] 601만 13억8878만 470개\n",
      "PONY Syndrome [패션/미용] 594만 3억5474만 210개\n",
      "스위트티비 SweetTV [키즈/어린이] 561만 27억7921만 523개\n",
      "2NE1 [음악/댄스/가수] 550만 20억8326만 321개\n",
      "백종원의 요리비책 Paik's Cuisine [음식/요리/레시피] 537만 6억6335만 426개\n",
      "starshipTV [음악/댄스/가수] 536만 32억4309만 2,028개\n",
      "콩순이 · 시크릿쥬쥬 [Kongsuni · Secret Jouju] [키즈/어린이] 524만 47억7681만 1,335개\n",
      "[Awesome Haeun]어썸하은 [BJ/인물/연예인] 522만 8억4451만 521개\n",
      "With Kids Playground [위드키즈 놀이터] [키즈/어린이] 520만 19억6392만 429개\n",
      "NCT [음악/댄스/가수] 518만 4억7952만 389개\n",
      "베이비버스 -인기 동요・동화 [키즈/어린이] 516만 35억4856만 1,417개\n",
      "TOY GUMA [키즈/어린이] 512만 16억9270만 325개\n",
      "Red Velvet [음악/댄스/가수] 501만 9억3434만 194개\n",
      "SBS NOW / SBS 공식 채널 [뉴스/정치/사회] 496만 51억0564만 21,453개\n",
      "푸메Fume [음식/요리/레시피] 493만 10억4280만 558개\n",
      "BT21 [음악/댄스/가수] 493만 4억2650만 238개\n",
      "영국남자 Korean Englishman [BJ/인물/연예인] 489만 16억2535만 466개\n",
      "ToyMart TV [키즈/어린이] 488만 21억4987만 652개\n",
      "NCT DREAM [음악/댄스/가수] 481만 6억7437만 367개\n",
      "KBS Entertain [TV/방송] 480만 80억4643만 107,214개\n",
      "MBCdrama [TV/방송] 472만 53억6447만 56,503개\n",
      "ASTRO 아스트로 [음악/댄스/가수] 469만 4억9741만 556개\n",
      "떵개떵 [음식/요리/레시피] 468만 27억3187만 4,604개\n",
      "Rosesarerosie [음악/댄스/가수] 463만 4140만 9개\n",
      "NCT 127 [음악/댄스/가수] 457만 6억0044만 318개\n",
      "뽀로로(Pororo) [키즈/어린이] 457만 63억4350만 3,844개\n",
      "JTBC Drama [TV/방송] 454만 47억1205만 25,373개\n",
      "SBS TV동물농장x애니멀봐 [애완/반려동물] 452만 41억6507만 3,505개\n",
      "Cooking tree 쿠킹트리 [음식/요리/레시피] 449만 4억3471만 1,264개\n",
      "까니짱 [ G-NI ] [음식/요리/레시피] 444만 12억3132만 621개\n",
      "미니팡TV [키즈/어린이] 442만 29억7776만 762개\n",
      "채널 NCT DAILY [TV/방송] 441만 8억0457만 467개\n",
      "하루한끼 one meal a day [음식/요리/레시피] 440만 4억4533만 190개\n",
      "슈슈토이 Shushu ToysReview [키즈/어린이] 434만 16억5310만 704개\n",
      "EA SPORTS FIFA [게임] 430만 8억0811만 794개\n",
      "CoCosToy 꼬꼬스토이 [키즈/어린이] 429만 24억9989만 597개\n",
      "MayTree [미분류] 428만 8억1107만 159개\n",
      "Raon [음악/댄스/가수] 428만 10억2180만 315개\n",
      "로미유 스토리[Romiyu Story] [키즈/어린이] 420만 11억1610만 435개\n",
      "[Dorothy]도로시 [음식/요리/레시피] 417만 10억1518만 919개\n",
      "JaeYeol ASMR 재열 [취미/라이프] 415만 11억9580만 1,103개\n"
     ]
    },
    {
     "ename": "IndexError",
     "evalue": "list index out of range",
     "output_type": "error",
     "traceback": [
      "\u001b[1;31m---------------------------------------------------------------------------\u001b[0m",
      "\u001b[1;31mIndexError\u001b[0m                                Traceback (most recent call last)",
      "\u001b[1;32m<ipython-input-13-e19da4fe3116>\u001b[0m in \u001b[0;36m<module>\u001b[1;34m\u001b[0m\n\u001b[0;32m      1\u001b[0m \u001b[0mchannel_list\u001b[0m \u001b[1;33m=\u001b[0m \u001b[0msoup\u001b[0m\u001b[1;33m.\u001b[0m\u001b[0mselect\u001b[0m\u001b[1;33m(\u001b[0m\u001b[1;34m'tbody > tr'\u001b[0m\u001b[1;33m)\u001b[0m\u001b[1;33m\u001b[0m\u001b[1;33m\u001b[0m\u001b[0m\n\u001b[0;32m      2\u001b[0m \u001b[1;32mfor\u001b[0m \u001b[0mchannel\u001b[0m \u001b[1;32min\u001b[0m \u001b[0mchannel_list\u001b[0m\u001b[1;33m:\u001b[0m\u001b[1;33m\u001b[0m\u001b[1;33m\u001b[0m\u001b[0m\n\u001b[1;32m----> 3\u001b[1;33m     \u001b[0mtitle\u001b[0m \u001b[1;33m=\u001b[0m \u001b[0mchannel\u001b[0m\u001b[1;33m.\u001b[0m\u001b[0mselect\u001b[0m\u001b[1;33m(\u001b[0m\u001b[1;34m'h1 > a'\u001b[0m\u001b[1;33m)\u001b[0m\u001b[1;33m[\u001b[0m\u001b[1;36m0\u001b[0m\u001b[1;33m]\u001b[0m\u001b[1;33m.\u001b[0m\u001b[0mtext\u001b[0m\u001b[1;33m.\u001b[0m\u001b[0mstrip\u001b[0m\u001b[1;33m(\u001b[0m\u001b[1;33m)\u001b[0m\u001b[1;33m\u001b[0m\u001b[1;33m\u001b[0m\u001b[0m\n\u001b[0m\u001b[0;32m      4\u001b[0m     \u001b[0mcategory\u001b[0m \u001b[1;33m=\u001b[0m \u001b[0mchannel\u001b[0m\u001b[1;33m.\u001b[0m\u001b[0mselect\u001b[0m\u001b[1;33m(\u001b[0m\u001b[1;34m'p.category'\u001b[0m\u001b[1;33m)\u001b[0m\u001b[1;33m[\u001b[0m\u001b[1;36m0\u001b[0m\u001b[1;33m]\u001b[0m\u001b[1;33m.\u001b[0m\u001b[0mtext\u001b[0m\u001b[1;33m.\u001b[0m\u001b[0mstrip\u001b[0m\u001b[1;33m(\u001b[0m\u001b[1;33m)\u001b[0m\u001b[1;33m\u001b[0m\u001b[1;33m\u001b[0m\u001b[0m\n\u001b[0;32m      5\u001b[0m     \u001b[0msubscriber\u001b[0m \u001b[1;33m=\u001b[0m \u001b[0mchannel\u001b[0m\u001b[1;33m.\u001b[0m\u001b[0mselect\u001b[0m\u001b[1;33m(\u001b[0m\u001b[1;34m'.subscriber_cnt'\u001b[0m\u001b[1;33m)\u001b[0m\u001b[1;33m[\u001b[0m\u001b[1;36m0\u001b[0m\u001b[1;33m]\u001b[0m\u001b[1;33m.\u001b[0m\u001b[0mtext\u001b[0m\u001b[1;33m\u001b[0m\u001b[1;33m\u001b[0m\u001b[0m\n",
      "\u001b[1;31mIndexError\u001b[0m: list index out of range"
     ]
    }
   ],
   "source": [
    "channel_list = soup.select('tbody > tr')\n",
    "for channel in channel_list:\n",
    "    title = channel.select('h1 > a')[0].text.strip()\n",
    "    category = channel.select('p.category')[0].text.strip()\n",
    "    subscriber = channel.select('.subscriber_cnt')[0].text\n",
    "    view = channel.select('.view_cnt')[0].text\n",
    "    video = channel.select('.video_cnt')[0].text\n",
    "    print(title, category, subscriber, view, video)"
   ]
  },
  {
   "cell_type": "code",
   "execution_count": 15,
   "id": "c83aab59",
   "metadata": {},
   "outputs": [
    {
     "name": "stdout",
     "output_type": "stream",
     "text": [
      "https://youtube-rank.com/board/bbs/board.php?bo_table=youtube&page=1\n"
     ]
    }
   ],
   "source": [
    "page = 1\n",
    "url = 'https://youtube-rank.com/board/bbs/board.php?bo_table=youtube&page={}'.format(page)\n",
    "print(url)"
   ]
  },
  {
   "cell_type": "code",
   "execution_count": 19,
   "id": "70fe64b7",
   "metadata": {},
   "outputs": [
    {
     "ename": "KeyboardInterrupt",
     "evalue": "",
     "output_type": "error",
     "traceback": [
      "\u001b[1;31m---------------------------------------------------------------------------\u001b[0m",
      "\u001b[1;31mKeyboardInterrupt\u001b[0m                         Traceback (most recent call last)",
      "\u001b[1;32m<ipython-input-19-6ee32a66637a>\u001b[0m in \u001b[0;36m<module>\u001b[1;34m\u001b[0m\n\u001b[0;32m      3\u001b[0m     \u001b[0murl\u001b[0m \u001b[1;33m=\u001b[0m \u001b[1;34mf\"https://youtube-rank.com/board/bbs/board.php?bo_table=youtube&page={page}\"\u001b[0m\u001b[1;33m\u001b[0m\u001b[1;33m\u001b[0m\u001b[0m\n\u001b[0;32m      4\u001b[0m     \u001b[0mbrowser\u001b[0m\u001b[1;33m.\u001b[0m\u001b[0mget\u001b[0m\u001b[1;33m(\u001b[0m\u001b[0murl\u001b[0m\u001b[1;33m)\u001b[0m\u001b[1;33m\u001b[0m\u001b[1;33m\u001b[0m\u001b[0m\n\u001b[1;32m----> 5\u001b[1;33m     \u001b[0mtime\u001b[0m\u001b[1;33m.\u001b[0m\u001b[0msleep\u001b[0m\u001b[1;33m(\u001b[0m\u001b[1;36m2\u001b[0m\u001b[1;33m)\u001b[0m\u001b[1;33m\u001b[0m\u001b[1;33m\u001b[0m\u001b[0m\n\u001b[0m\u001b[0;32m      6\u001b[0m     \u001b[0mhtlm\u001b[0m \u001b[1;33m=\u001b[0m \u001b[0mbrowser\u001b[0m\u001b[1;33m.\u001b[0m\u001b[0mpage_source\u001b[0m\u001b[1;33m\u001b[0m\u001b[1;33m\u001b[0m\u001b[0m\n\u001b[0;32m      7\u001b[0m     \u001b[0msoup\u001b[0m \u001b[1;33m=\u001b[0m \u001b[0mBeautifulSoup\u001b[0m\u001b[1;33m(\u001b[0m\u001b[0mhtml\u001b[0m\u001b[1;33m,\u001b[0m \u001b[1;34m'html.parser'\u001b[0m\u001b[1;33m)\u001b[0m\u001b[1;33m\u001b[0m\u001b[1;33m\u001b[0m\u001b[0m\n",
      "\u001b[1;31mKeyboardInterrupt\u001b[0m: "
     ]
    }
   ],
   "source": [
    "results = []\n",
    "for page in range(1, 11):\n",
    "    url = f\"https://youtube-rank.com/board/bbs/board.php?bo_table=youtube&page={page}\"\n",
    "    browser.get(url)\n",
    "    time.sleep(2)\n",
    "    htlm = browser.page_source\n",
    "    soup = BeautifulSoup(html, 'html.parser')\n",
    "    channel_list = soup.select('form > table > tbody > tr')\n",
    "    for channel in channel_list:\n",
    "        title = channel.select('h1 > a')[0].text.strip()\n",
    "        category = channel.select('p.category')[0].text.strip()\n",
    "        subscriber = channel.select('.subscriber_cnt')[0].text\n",
    "        view = channel.select('.view_cnt')[0].text\n",
    "        video = channel.select('.video_cnt')[0].text\n",
    "        data = [title, category, subscriber, view, video]\n",
    "        results.append(data)"
   ]
  },
  {
   "cell_type": "code",
   "execution_count": 20,
   "id": "1d648482",
   "metadata": {},
   "outputs": [],
   "source": [
    "df = pd.DataFrame(results)\n",
    "df.columns = ['title', 'category', 'subscriber', 'view', 'video']\n",
    "df.to_excel('./youtube_rank.xlsx', index=False)"
   ]
  },
  {
   "cell_type": "code",
   "execution_count": 21,
   "id": "5d9d2add",
   "metadata": {},
   "outputs": [],
   "source": [
    "#유튜브 랭킹 데이터 시각화\n",
    "import pandas as pd\n",
    "import matplotlib.pyplot as plt"
   ]
  },
  {
   "cell_type": "code",
   "execution_count": 22,
   "id": "d48e08e4",
   "metadata": {},
   "outputs": [],
   "source": [
    "from matplotlib import font_manager, rc\n",
    "import platform\n",
    "if platform.system() == 'Windows':\n",
    "    path = 'c:/Windows/Fonts/malgun.ttf'\n",
    "    font_name = font_manager.FontProperties(fname=path).get_name()\n",
    "    rc('font', family = font_name)\n",
    "elif platform.system() == 'Darwin':\n",
    "    rc('font', family = 'AppleFothic')\n",
    "else:\n",
    "    print('Check your OS system')"
   ]
  },
  {
   "cell_type": "code",
   "execution_count": 23,
   "id": "f3d3efdb",
   "metadata": {},
   "outputs": [
    {
     "data": {
      "text/html": [
       "<div>\n",
       "<style scoped>\n",
       "    .dataframe tbody tr th:only-of-type {\n",
       "        vertical-align: middle;\n",
       "    }\n",
       "\n",
       "    .dataframe tbody tr th {\n",
       "        vertical-align: top;\n",
       "    }\n",
       "\n",
       "    .dataframe thead th {\n",
       "        text-align: right;\n",
       "    }\n",
       "</style>\n",
       "<table border=\"1\" class=\"dataframe\">\n",
       "  <thead>\n",
       "    <tr style=\"text-align: right;\">\n",
       "      <th></th>\n",
       "      <th>title</th>\n",
       "      <th>category</th>\n",
       "      <th>subscriber</th>\n",
       "      <th>view</th>\n",
       "      <th>video</th>\n",
       "    </tr>\n",
       "  </thead>\n",
       "  <tbody>\n",
       "    <tr>\n",
       "      <th>0</th>\n",
       "      <td>BLACKPINK</td>\n",
       "      <td>[음악/댄스/가수]</td>\n",
       "      <td>7430만</td>\n",
       "      <td>237억7052만</td>\n",
       "      <td>394개</td>\n",
       "    </tr>\n",
       "    <tr>\n",
       "      <th>1</th>\n",
       "      <td>BANGTANTV</td>\n",
       "      <td>[음악/댄스/가수]</td>\n",
       "      <td>6650만</td>\n",
       "      <td>162억3917만</td>\n",
       "      <td>1,695개</td>\n",
       "    </tr>\n",
       "    <tr>\n",
       "      <th>2</th>\n",
       "      <td>HYBE LABELS</td>\n",
       "      <td>[음악/댄스/가수]</td>\n",
       "      <td>6560만</td>\n",
       "      <td>227억4224만</td>\n",
       "      <td>872개</td>\n",
       "    </tr>\n",
       "    <tr>\n",
       "      <th>3</th>\n",
       "      <td>SMTOWN</td>\n",
       "      <td>[음악/댄스/가수]</td>\n",
       "      <td>3040만</td>\n",
       "      <td>245억4970만</td>\n",
       "      <td>3,910개</td>\n",
       "    </tr>\n",
       "    <tr>\n",
       "      <th>4</th>\n",
       "      <td>Boram Tube Vlog [보람튜브 브이로그]</td>\n",
       "      <td>[키즈/어린이]</td>\n",
       "      <td>2650만</td>\n",
       "      <td>110억5288만</td>\n",
       "      <td>223개</td>\n",
       "    </tr>\n",
       "  </tbody>\n",
       "</table>\n",
       "</div>"
      ],
      "text/plain": [
       "                         title    category subscriber       view   video\n",
       "0                    BLACKPINK  [음악/댄스/가수]      7430만  237억7052만    394개\n",
       "1                    BANGTANTV  [음악/댄스/가수]      6650만  162억3917만  1,695개\n",
       "2                  HYBE LABELS  [음악/댄스/가수]      6560만  227억4224만    872개\n",
       "3                       SMTOWN  [음악/댄스/가수]      3040만  245억4970만  3,910개\n",
       "4  Boram Tube Vlog [보람튜브 브이로그]    [키즈/어린이]      2650만  110억5288만    223개"
      ]
     },
     "execution_count": 23,
     "metadata": {},
     "output_type": "execute_result"
    }
   ],
   "source": [
    "df = pd.read_excel('./youtube_rank.xlsx')\n",
    "df.head()"
   ]
  },
  {
   "cell_type": "code",
   "execution_count": 24,
   "id": "da31be8c",
   "metadata": {},
   "outputs": [
    {
     "data": {
      "text/html": [
       "<div>\n",
       "<style scoped>\n",
       "    .dataframe tbody tr th:only-of-type {\n",
       "        vertical-align: middle;\n",
       "    }\n",
       "\n",
       "    .dataframe tbody tr th {\n",
       "        vertical-align: top;\n",
       "    }\n",
       "\n",
       "    .dataframe thead th {\n",
       "        text-align: right;\n",
       "    }\n",
       "</style>\n",
       "<table border=\"1\" class=\"dataframe\">\n",
       "  <thead>\n",
       "    <tr style=\"text-align: right;\">\n",
       "      <th></th>\n",
       "      <th>title</th>\n",
       "      <th>category</th>\n",
       "      <th>subscriber</th>\n",
       "      <th>view</th>\n",
       "      <th>video</th>\n",
       "    </tr>\n",
       "  </thead>\n",
       "  <tbody>\n",
       "    <tr>\n",
       "      <th>795</th>\n",
       "      <td>MayTree</td>\n",
       "      <td>[미분류]</td>\n",
       "      <td>428만</td>\n",
       "      <td>8억1107만</td>\n",
       "      <td>159개</td>\n",
       "    </tr>\n",
       "    <tr>\n",
       "      <th>796</th>\n",
       "      <td>Raon</td>\n",
       "      <td>[음악/댄스/가수]</td>\n",
       "      <td>428만</td>\n",
       "      <td>10억2180만</td>\n",
       "      <td>315개</td>\n",
       "    </tr>\n",
       "    <tr>\n",
       "      <th>797</th>\n",
       "      <td>로미유 스토리[Romiyu Story]</td>\n",
       "      <td>[키즈/어린이]</td>\n",
       "      <td>420만</td>\n",
       "      <td>11억1610만</td>\n",
       "      <td>435개</td>\n",
       "    </tr>\n",
       "    <tr>\n",
       "      <th>798</th>\n",
       "      <td>[Dorothy]도로시</td>\n",
       "      <td>[음식/요리/레시피]</td>\n",
       "      <td>417만</td>\n",
       "      <td>10억1518만</td>\n",
       "      <td>919개</td>\n",
       "    </tr>\n",
       "    <tr>\n",
       "      <th>799</th>\n",
       "      <td>JaeYeol ASMR 재열</td>\n",
       "      <td>[취미/라이프]</td>\n",
       "      <td>415만</td>\n",
       "      <td>11억9580만</td>\n",
       "      <td>1,103개</td>\n",
       "    </tr>\n",
       "  </tbody>\n",
       "</table>\n",
       "</div>"
      ],
      "text/plain": [
       "                     title     category subscriber      view   video\n",
       "795                MayTree        [미분류]       428만   8억1107만    159개\n",
       "796                   Raon   [음악/댄스/가수]       428만  10억2180만    315개\n",
       "797  로미유 스토리[Romiyu Story]     [키즈/어린이]       420만  11억1610만    435개\n",
       "798           [Dorothy]도로시  [음식/요리/레시피]       417만  10억1518만    919개\n",
       "799        JaeYeol ASMR 재열     [취미/라이프]       415만  11억9580만  1,103개"
      ]
     },
     "execution_count": 24,
     "metadata": {},
     "output_type": "execute_result"
    }
   ],
   "source": [
    "df.tail()"
   ]
  },
  {
   "cell_type": "code",
   "execution_count": 25,
   "id": "cdc4de8a",
   "metadata": {},
   "outputs": [
    {
     "data": {
      "text/plain": [
       "0    7430만\n",
       "1    6650만\n",
       "2    6560만\n",
       "3    3040만\n",
       "4    2650만\n",
       "5    2530만\n",
       "6    2450만\n",
       "7    2410만\n",
       "8    1950만\n",
       "9    1780만\n",
       "Name: subscriber, dtype: object"
      ]
     },
     "execution_count": 25,
     "metadata": {},
     "output_type": "execute_result"
    }
   ],
   "source": [
    "df['subscriber'][0:10]"
   ]
  },
  {
   "cell_type": "code",
   "execution_count": 26,
   "id": "2a284f05",
   "metadata": {},
   "outputs": [
    {
     "data": {
      "text/plain": [
       "0    74300000\n",
       "1    66500000\n",
       "2    65600000\n",
       "3    30400000\n",
       "4    26500000\n",
       "5    25300000\n",
       "6    24500000\n",
       "7    24100000\n",
       "8    19500000\n",
       "9    17800000\n",
       "Name: subscriber, dtype: object"
      ]
     },
     "execution_count": 26,
     "metadata": {},
     "output_type": "execute_result"
    }
   ],
   "source": [
    "df['subscriber'].str.replace('만', '0000')[0:10]"
   ]
  },
  {
   "cell_type": "code",
   "execution_count": 27,
   "id": "6f6a80b7",
   "metadata": {},
   "outputs": [
    {
     "data": {
      "text/html": [
       "<div>\n",
       "<style scoped>\n",
       "    .dataframe tbody tr th:only-of-type {\n",
       "        vertical-align: middle;\n",
       "    }\n",
       "\n",
       "    .dataframe tbody tr th {\n",
       "        vertical-align: top;\n",
       "    }\n",
       "\n",
       "    .dataframe thead th {\n",
       "        text-align: right;\n",
       "    }\n",
       "</style>\n",
       "<table border=\"1\" class=\"dataframe\">\n",
       "  <thead>\n",
       "    <tr style=\"text-align: right;\">\n",
       "      <th></th>\n",
       "      <th>title</th>\n",
       "      <th>category</th>\n",
       "      <th>subscriber</th>\n",
       "      <th>view</th>\n",
       "      <th>video</th>\n",
       "      <th>replaced_subscriber</th>\n",
       "    </tr>\n",
       "  </thead>\n",
       "  <tbody>\n",
       "    <tr>\n",
       "      <th>0</th>\n",
       "      <td>BLACKPINK</td>\n",
       "      <td>[음악/댄스/가수]</td>\n",
       "      <td>7430만</td>\n",
       "      <td>237억7052만</td>\n",
       "      <td>394개</td>\n",
       "      <td>74300000</td>\n",
       "    </tr>\n",
       "    <tr>\n",
       "      <th>1</th>\n",
       "      <td>BANGTANTV</td>\n",
       "      <td>[음악/댄스/가수]</td>\n",
       "      <td>6650만</td>\n",
       "      <td>162억3917만</td>\n",
       "      <td>1,695개</td>\n",
       "      <td>66500000</td>\n",
       "    </tr>\n",
       "    <tr>\n",
       "      <th>2</th>\n",
       "      <td>HYBE LABELS</td>\n",
       "      <td>[음악/댄스/가수]</td>\n",
       "      <td>6560만</td>\n",
       "      <td>227억4224만</td>\n",
       "      <td>872개</td>\n",
       "      <td>65600000</td>\n",
       "    </tr>\n",
       "    <tr>\n",
       "      <th>3</th>\n",
       "      <td>SMTOWN</td>\n",
       "      <td>[음악/댄스/가수]</td>\n",
       "      <td>3040만</td>\n",
       "      <td>245억4970만</td>\n",
       "      <td>3,910개</td>\n",
       "      <td>30400000</td>\n",
       "    </tr>\n",
       "    <tr>\n",
       "      <th>4</th>\n",
       "      <td>Boram Tube Vlog [보람튜브 브이로그]</td>\n",
       "      <td>[키즈/어린이]</td>\n",
       "      <td>2650만</td>\n",
       "      <td>110억5288만</td>\n",
       "      <td>223개</td>\n",
       "      <td>26500000</td>\n",
       "    </tr>\n",
       "  </tbody>\n",
       "</table>\n",
       "</div>"
      ],
      "text/plain": [
       "                         title    category subscriber       view   video  \\\n",
       "0                    BLACKPINK  [음악/댄스/가수]      7430만  237억7052만    394개   \n",
       "1                    BANGTANTV  [음악/댄스/가수]      6650만  162억3917만  1,695개   \n",
       "2                  HYBE LABELS  [음악/댄스/가수]      6560만  227억4224만    872개   \n",
       "3                       SMTOWN  [음악/댄스/가수]      3040만  245억4970만  3,910개   \n",
       "4  Boram Tube Vlog [보람튜브 브이로그]    [키즈/어린이]      2650만  110억5288만    223개   \n",
       "\n",
       "  replaced_subscriber  \n",
       "0            74300000  \n",
       "1            66500000  \n",
       "2            65600000  \n",
       "3            30400000  \n",
       "4            26500000  "
      ]
     },
     "execution_count": 27,
     "metadata": {},
     "output_type": "execute_result"
    }
   ],
   "source": [
    "df['replaced_subscriber'] = df['subscriber'].str.replace('만', '0000')\n",
    "df.head()"
   ]
  },
  {
   "cell_type": "code",
   "execution_count": 28,
   "id": "3bd4e2fd",
   "metadata": {},
   "outputs": [
    {
     "name": "stdout",
     "output_type": "stream",
     "text": [
      "<class 'pandas.core.frame.DataFrame'>\n",
      "RangeIndex: 800 entries, 0 to 799\n",
      "Data columns (total 6 columns):\n",
      " #   Column               Non-Null Count  Dtype \n",
      "---  ------               --------------  ----- \n",
      " 0   title                800 non-null    object\n",
      " 1   category             800 non-null    object\n",
      " 2   subscriber           800 non-null    object\n",
      " 3   view                 800 non-null    object\n",
      " 4   video                800 non-null    object\n",
      " 5   replaced_subscriber  800 non-null    object\n",
      "dtypes: object(6)\n",
      "memory usage: 37.6+ KB\n"
     ]
    }
   ],
   "source": [
    "df.info()"
   ]
  },
  {
   "cell_type": "code",
   "execution_count": 29,
   "id": "afac37bc",
   "metadata": {},
   "outputs": [
    {
     "name": "stdout",
     "output_type": "stream",
     "text": [
      "<class 'pandas.core.frame.DataFrame'>\n",
      "RangeIndex: 800 entries, 0 to 799\n",
      "Data columns (total 6 columns):\n",
      " #   Column               Non-Null Count  Dtype \n",
      "---  ------               --------------  ----- \n",
      " 0   title                800 non-null    object\n",
      " 1   category             800 non-null    object\n",
      " 2   subscriber           800 non-null    object\n",
      " 3   view                 800 non-null    object\n",
      " 4   video                800 non-null    object\n",
      " 5   replaced_subscriber  800 non-null    int32 \n",
      "dtypes: int32(1), object(5)\n",
      "memory usage: 34.5+ KB\n"
     ]
    }
   ],
   "source": [
    "df['replaced_subscriber'] = df['replaced_subscriber'].astype('int')\n",
    "df.info()"
   ]
  },
  {
   "cell_type": "code",
   "execution_count": 30,
   "id": "4fabcfbe",
   "metadata": {},
   "outputs": [
    {
     "data": {
      "text/html": [
       "<div>\n",
       "<style scoped>\n",
       "    .dataframe tbody tr th:only-of-type {\n",
       "        vertical-align: middle;\n",
       "    }\n",
       "\n",
       "    .dataframe tbody tr th {\n",
       "        vertical-align: top;\n",
       "    }\n",
       "\n",
       "    .dataframe thead tr th {\n",
       "        text-align: left;\n",
       "    }\n",
       "\n",
       "    .dataframe thead tr:last-of-type th {\n",
       "        text-align: right;\n",
       "    }\n",
       "</style>\n",
       "<table border=\"1\" class=\"dataframe\">\n",
       "  <thead>\n",
       "    <tr>\n",
       "      <th></th>\n",
       "      <th>sum</th>\n",
       "      <th>count</th>\n",
       "    </tr>\n",
       "    <tr>\n",
       "      <th></th>\n",
       "      <th>replaced_subscriber</th>\n",
       "      <th>replaced_subscriber</th>\n",
       "    </tr>\n",
       "    <tr>\n",
       "      <th>category</th>\n",
       "      <th></th>\n",
       "      <th></th>\n",
       "    </tr>\n",
       "  </thead>\n",
       "  <tbody>\n",
       "    <tr>\n",
       "      <th>[BJ/인물/연예인]</th>\n",
       "      <td>80880000.0</td>\n",
       "      <td>16</td>\n",
       "    </tr>\n",
       "    <tr>\n",
       "      <th>[TV/방송]</th>\n",
       "      <td>693120000.0</td>\n",
       "      <td>96</td>\n",
       "    </tr>\n",
       "    <tr>\n",
       "      <th>[게임]</th>\n",
       "      <td>34400000.0</td>\n",
       "      <td>8</td>\n",
       "    </tr>\n",
       "    <tr>\n",
       "      <th>[뉴스/정치/사회]</th>\n",
       "      <td>168080000.0</td>\n",
       "      <td>24</td>\n",
       "    </tr>\n",
       "    <tr>\n",
       "      <th>[미분류]</th>\n",
       "      <td>260560000.0</td>\n",
       "      <td>32</td>\n",
       "    </tr>\n",
       "  </tbody>\n",
       "</table>\n",
       "</div>"
      ],
      "text/plain": [
       "                            sum               count\n",
       "            replaced_subscriber replaced_subscriber\n",
       "category                                           \n",
       "[BJ/인물/연예인]          80880000.0                  16\n",
       "[TV/방송]             693120000.0                  96\n",
       "[게임]                 34400000.0                   8\n",
       "[뉴스/정치/사회]          168080000.0                  24\n",
       "[미분류]               260560000.0                  32"
      ]
     },
     "execution_count": 30,
     "metadata": {},
     "output_type": "execute_result"
    }
   ],
   "source": [
    "pivot_df = df.pivot_table(index = 'category', values = 'replaced_subscriber', aggfunc=['sum', 'count'])\n",
    "pivot_df.head()"
   ]
  },
  {
   "cell_type": "code",
   "execution_count": 31,
   "id": "03cd83af",
   "metadata": {},
   "outputs": [
    {
     "data": {
      "text/html": [
       "<div>\n",
       "<style scoped>\n",
       "    .dataframe tbody tr th:only-of-type {\n",
       "        vertical-align: middle;\n",
       "    }\n",
       "\n",
       "    .dataframe tbody tr th {\n",
       "        vertical-align: top;\n",
       "    }\n",
       "\n",
       "    .dataframe thead th {\n",
       "        text-align: right;\n",
       "    }\n",
       "</style>\n",
       "<table border=\"1\" class=\"dataframe\">\n",
       "  <thead>\n",
       "    <tr style=\"text-align: right;\">\n",
       "      <th></th>\n",
       "      <th>subscriber_sum</th>\n",
       "      <th>category_count</th>\n",
       "    </tr>\n",
       "    <tr>\n",
       "      <th>category</th>\n",
       "      <th></th>\n",
       "      <th></th>\n",
       "    </tr>\n",
       "  </thead>\n",
       "  <tbody>\n",
       "    <tr>\n",
       "      <th>[BJ/인물/연예인]</th>\n",
       "      <td>80880000.0</td>\n",
       "      <td>16</td>\n",
       "    </tr>\n",
       "    <tr>\n",
       "      <th>[TV/방송]</th>\n",
       "      <td>693120000.0</td>\n",
       "      <td>96</td>\n",
       "    </tr>\n",
       "    <tr>\n",
       "      <th>[게임]</th>\n",
       "      <td>34400000.0</td>\n",
       "      <td>8</td>\n",
       "    </tr>\n",
       "    <tr>\n",
       "      <th>[뉴스/정치/사회]</th>\n",
       "      <td>168080000.0</td>\n",
       "      <td>24</td>\n",
       "    </tr>\n",
       "    <tr>\n",
       "      <th>[미분류]</th>\n",
       "      <td>260560000.0</td>\n",
       "      <td>32</td>\n",
       "    </tr>\n",
       "  </tbody>\n",
       "</table>\n",
       "</div>"
      ],
      "text/plain": [
       "             subscriber_sum  category_count\n",
       "category                                   \n",
       "[BJ/인물/연예인]      80880000.0              16\n",
       "[TV/방송]         693120000.0              96\n",
       "[게임]             34400000.0               8\n",
       "[뉴스/정치/사회]      168080000.0              24\n",
       "[미분류]           260560000.0              32"
      ]
     },
     "execution_count": 31,
     "metadata": {},
     "output_type": "execute_result"
    }
   ],
   "source": [
    "pivot_df.columns = ['subscriber_sum', 'category_count']\n",
    "pivot_df.head()"
   ]
  },
  {
   "cell_type": "code",
   "execution_count": 34,
   "id": "8e333bb0",
   "metadata": {},
   "outputs": [
    {
     "data": {
      "text/html": [
       "<div>\n",
       "<style scoped>\n",
       "    .dataframe tbody tr th:only-of-type {\n",
       "        vertical-align: middle;\n",
       "    }\n",
       "\n",
       "    .dataframe tbody tr th {\n",
       "        vertical-align: top;\n",
       "    }\n",
       "\n",
       "    .dataframe thead th {\n",
       "        text-align: right;\n",
       "    }\n",
       "</style>\n",
       "<table border=\"1\" class=\"dataframe\">\n",
       "  <thead>\n",
       "    <tr style=\"text-align: right;\">\n",
       "      <th></th>\n",
       "      <th>index</th>\n",
       "      <th>category</th>\n",
       "      <th>subscriber_sum</th>\n",
       "      <th>category_count</th>\n",
       "    </tr>\n",
       "  </thead>\n",
       "  <tbody>\n",
       "    <tr>\n",
       "      <th>0</th>\n",
       "      <td>0</td>\n",
       "      <td>[BJ/인물/연예인]</td>\n",
       "      <td>80880000.0</td>\n",
       "      <td>16</td>\n",
       "    </tr>\n",
       "    <tr>\n",
       "      <th>1</th>\n",
       "      <td>1</td>\n",
       "      <td>[TV/방송]</td>\n",
       "      <td>693120000.0</td>\n",
       "      <td>96</td>\n",
       "    </tr>\n",
       "    <tr>\n",
       "      <th>2</th>\n",
       "      <td>2</td>\n",
       "      <td>[게임]</td>\n",
       "      <td>34400000.0</td>\n",
       "      <td>8</td>\n",
       "    </tr>\n",
       "    <tr>\n",
       "      <th>3</th>\n",
       "      <td>3</td>\n",
       "      <td>[뉴스/정치/사회]</td>\n",
       "      <td>168080000.0</td>\n",
       "      <td>24</td>\n",
       "    </tr>\n",
       "    <tr>\n",
       "      <th>4</th>\n",
       "      <td>4</td>\n",
       "      <td>[미분류]</td>\n",
       "      <td>260560000.0</td>\n",
       "      <td>32</td>\n",
       "    </tr>\n",
       "  </tbody>\n",
       "</table>\n",
       "</div>"
      ],
      "text/plain": [
       "   index     category  subscriber_sum  category_count\n",
       "0      0  [BJ/인물/연예인]      80880000.0              16\n",
       "1      1      [TV/방송]     693120000.0              96\n",
       "2      2         [게임]      34400000.0               8\n",
       "3      3   [뉴스/정치/사회]     168080000.0              24\n",
       "4      4        [미분류]     260560000.0              32"
      ]
     },
     "execution_count": 34,
     "metadata": {},
     "output_type": "execute_result"
    }
   ],
   "source": [
    "pivot_df = pivot_df.reset_index()\n",
    "pivot_df.head()"
   ]
  },
  {
   "cell_type": "code",
   "execution_count": 35,
   "id": "03e53c6d",
   "metadata": {},
   "outputs": [
    {
     "data": {
      "text/html": [
       "<div>\n",
       "<style scoped>\n",
       "    .dataframe tbody tr th:only-of-type {\n",
       "        vertical-align: middle;\n",
       "    }\n",
       "\n",
       "    .dataframe tbody tr th {\n",
       "        vertical-align: top;\n",
       "    }\n",
       "\n",
       "    .dataframe thead th {\n",
       "        text-align: right;\n",
       "    }\n",
       "</style>\n",
       "<table border=\"1\" class=\"dataframe\">\n",
       "  <thead>\n",
       "    <tr style=\"text-align: right;\">\n",
       "      <th></th>\n",
       "      <th>index</th>\n",
       "      <th>category</th>\n",
       "      <th>subscriber_sum</th>\n",
       "      <th>category_count</th>\n",
       "    </tr>\n",
       "  </thead>\n",
       "  <tbody>\n",
       "    <tr>\n",
       "      <th>7</th>\n",
       "      <td>7</td>\n",
       "      <td>[음악/댄스/가수]</td>\n",
       "      <td>4.474800e+09</td>\n",
       "      <td>296</td>\n",
       "    </tr>\n",
       "    <tr>\n",
       "      <th>9</th>\n",
       "      <td>9</td>\n",
       "      <td>[키즈/어린이]</td>\n",
       "      <td>1.340480e+09</td>\n",
       "      <td>176</td>\n",
       "    </tr>\n",
       "    <tr>\n",
       "      <th>6</th>\n",
       "      <td>6</td>\n",
       "      <td>[음식/요리/레시피]</td>\n",
       "      <td>8.015200e+08</td>\n",
       "      <td>112</td>\n",
       "    </tr>\n",
       "    <tr>\n",
       "      <th>1</th>\n",
       "      <td>1</td>\n",
       "      <td>[TV/방송]</td>\n",
       "      <td>6.931200e+08</td>\n",
       "      <td>96</td>\n",
       "    </tr>\n",
       "    <tr>\n",
       "      <th>4</th>\n",
       "      <td>4</td>\n",
       "      <td>[미분류]</td>\n",
       "      <td>2.605600e+08</td>\n",
       "      <td>32</td>\n",
       "    </tr>\n",
       "  </tbody>\n",
       "</table>\n",
       "</div>"
      ],
      "text/plain": [
       "   index     category  subscriber_sum  category_count\n",
       "7      7   [음악/댄스/가수]    4.474800e+09             296\n",
       "9      9     [키즈/어린이]    1.340480e+09             176\n",
       "6      6  [음식/요리/레시피]    8.015200e+08             112\n",
       "1      1      [TV/방송]    6.931200e+08              96\n",
       "4      4        [미분류]    2.605600e+08              32"
      ]
     },
     "execution_count": 35,
     "metadata": {},
     "output_type": "execute_result"
    }
   ],
   "source": [
    "pivot_df = pivot_df.sort_values(by='subscriber_sum', ascending=False)\n",
    "pivot_df.head()"
   ]
  },
  {
   "cell_type": "code",
   "execution_count": 37,
   "id": "b7bc24f0",
   "metadata": {},
   "outputs": [
    {
     "data": {
      "image/png": "[encoded data removed]",
      "text/plain": [
       "<Figure size 2160x720 with 1 Axes>"
      ]
     },
     "metadata": {},
     "output_type": "display_data"
    }
   ],
   "source": [
    "#카테고리별 구독자 수 시각화\n",
    "plt.figure(figsize=(30, 10))\n",
    "plt.pie(pivot_df['subscriber_sum'], labels=pivot_df['category'], autopct='%1.1f%%')\n",
    "plt.show()"
   ]
  },
  {
   "cell_type": "code",
   "execution_count": 38,
   "id": "edb473dd",
   "metadata": {},
   "outputs": [
    {
     "data": {
      "image/png": "[encoded data removed]",
      "text/plain": [
       "<Figure size 2160x720 with 1 Axes>"
      ]
     },
     "metadata": {},
     "output_type": "display_data"
    }
   ],
   "source": [
    "#카테고리별 채널 수 시각화\n",
    "pivot_df = pivot_df.sort_values(by='category_count', ascending=False)\n",
    "pivot_df.head()\n",
    "plt.figure(figsize=(30, 10))\n",
    "plt.pie(pivot_df['category_count'], labels=pivot_df['category'], autopct='%1.1f%%')\n",
    "plt.show()"
   ]
  },
  {
   "cell_type": "code",
   "execution_count": null,
   "id": "2b755ea7",
   "metadata": {},
   "outputs": [],
   "source": []
  }
 ],
 "metadata": {
  "kernelspec": {
   "display_name": "Python 3",
   "language": "python",
   "name": "python3"
  },
  "language_info": {
   "codemirror_mode": {
    "name": "ipython",
    "version": 3
   },
   "file_extension": ".py",
   "mimetype": "text/x-python",
   "name": "python",
   "nbconvert_exporter": "python",
   "pygments_lexer": "ipython3",
   "version": "3.8.8"
  }
 },
 "nbformat": 4,
 "nbformat_minor": 5
}
