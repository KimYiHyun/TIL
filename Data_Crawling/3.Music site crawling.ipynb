{
 "cells": [
  {
   "cell_type": "code",
   "execution_count": 1,
   "id": "6d0fc8d2",
   "metadata": {},
   "outputs": [
    {
     "name": "stderr",
     "output_type": "stream",
     "text": [
      "<ipython-input-1-02216a26d19b>:4: DeprecationWarning: executable_path has been deprecated, please pass in a Service object\n",
      "  driver = webdriver.Chrome('C:/Users/김이현/Desktop/projects/data_analysis/Pyhon/실무_파이썬_예제/chromedriver.exe')\n"
     ]
    }
   ],
   "source": [
    "#멜론 클롤링 결과 엑셀로 저장하기\n",
    "from selenium import webdriver\n",
    "from bs4 import BeautifulSoup\n",
    "\n",
    "driver = webdriver.Chrome('./chromedriver.exe')\n",
    "url = 'http://www.melon.com/chart/index.htm'\n",
    "driver.get(url)\n",
    "\n",
    "html = driver.page_source\n",
    "soup = BeautifulSoup(html, 'html.parser')"
   ]
  },
  {
   "cell_type": "code",
   "execution_count": 2,
   "id": "efc47983",
   "metadata": {},
   "outputs": [],
   "source": [
    "song_data = []\n",
    "rank = 1\n",
    "songs = soup.select('table > tbody > tr')\n",
    "for song in songs:\n",
    "    title = song.select('div.rank01 > span > a')[0].text\n",
    "    singer = song.select ('div.rank02 > a')[0].text\n",
    "    song_data.append(['Melon', rank, title, singer])\n",
    "    rank = rank + 1"
   ]
  },
  {
   "cell_type": "code",
   "execution_count": 3,
   "id": "521a2340",
   "metadata": {},
   "outputs": [
    {
     "data": {
      "text/html": [
       "<div>\n",
       "<style scoped>\n",
       "    .dataframe tbody tr th:only-of-type {\n",
       "        vertical-align: middle;\n",
       "    }\n",
       "\n",
       "    .dataframe tbody tr th {\n",
       "        vertical-align: top;\n",
       "    }\n",
       "\n",
       "    .dataframe thead th {\n",
       "        text-align: right;\n",
       "    }\n",
       "</style>\n",
       "<table border=\"1\" class=\"dataframe\">\n",
       "  <thead>\n",
       "    <tr style=\"text-align: right;\">\n",
       "      <th></th>\n",
       "      <th>서비스</th>\n",
       "      <th>순위</th>\n",
       "      <th>타이틀</th>\n",
       "      <th>가수</th>\n",
       "    </tr>\n",
       "  </thead>\n",
       "  <tbody>\n",
       "    <tr>\n",
       "      <th>0</th>\n",
       "      <td>Melon</td>\n",
       "      <td>1</td>\n",
       "      <td>That That (prod. &amp; feat. SUGA of BTS)</td>\n",
       "      <td>싸이 (PSY)</td>\n",
       "    </tr>\n",
       "    <tr>\n",
       "      <th>1</th>\n",
       "      <td>Melon</td>\n",
       "      <td>2</td>\n",
       "      <td>LOVE DIVE</td>\n",
       "      <td>IVE (아이브)</td>\n",
       "    </tr>\n",
       "    <tr>\n",
       "      <th>2</th>\n",
       "      <td>Melon</td>\n",
       "      <td>3</td>\n",
       "      <td>TOMBOY</td>\n",
       "      <td>(여자)아이들</td>\n",
       "    </tr>\n",
       "    <tr>\n",
       "      <th>3</th>\n",
       "      <td>Melon</td>\n",
       "      <td>4</td>\n",
       "      <td>봄여름가을겨울 (Still Life)</td>\n",
       "      <td>BIGBANG (빅뱅)</td>\n",
       "    </tr>\n",
       "    <tr>\n",
       "      <th>4</th>\n",
       "      <td>Melon</td>\n",
       "      <td>5</td>\n",
       "      <td>사랑인가 봐</td>\n",
       "      <td>멜로망스</td>\n",
       "    </tr>\n",
       "  </tbody>\n",
       "</table>\n",
       "</div>"
      ],
      "text/plain": [
       "     서비스  순위                                    타이틀            가수\n",
       "0  Melon   1  That That (prod. & feat. SUGA of BTS)      싸이 (PSY)\n",
       "1  Melon   2                              LOVE DIVE     IVE (아이브)\n",
       "2  Melon   3                                 TOMBOY       (여자)아이들\n",
       "3  Melon   4                   봄여름가을겨울 (Still Life)  BIGBANG (빅뱅)\n",
       "4  Melon   5                                 사랑인가 봐          멜로망스"
      ]
     },
     "execution_count": 3,
     "metadata": {},
     "output_type": "execute_result"
    }
   ],
   "source": [
    "import pandas as pd\n",
    "columns = ['서비스', '순위', '타이틀', '가수']\n",
    "pd_data = pd.DataFrame(song_data, columns=columns)\n",
    "pd_data.head()"
   ]
  },
  {
   "cell_type": "code",
   "execution_count": 5,
   "id": "750473ff",
   "metadata": {},
   "outputs": [],
   "source": [
    "pd_data.to_excel('./melon_rank.xlsx', index=False)"
   ]
  },
  {
   "cell_type": "code",
   "execution_count": 7,
   "id": "6c9e24b2",
   "metadata": {},
   "outputs": [
    {
     "name": "stderr",
     "output_type": "stream",
     "text": [
      "<ipython-input-7-20de62c6d045>:5: DeprecationWarning: executable_path has been deprecated, please pass in a Service object\n",
      "  driver = webdriver.Chrome('C:/Users/김이현/Desktop/projects/data_analysis/Pyhon/실무_파이썬_예제/chromedriver.exe')\n"
     ]
    }
   ],
   "source": [
    "#벅스 크롤링 결과 엑셀로 저장하기\n",
    "from selenium import webdriver\n",
    "from bs4 import BeautifulSoup\n",
    "\n",
    "driver = webdriver.Chrome('./chromedriver.exe')\n",
    "url = 'http://music.bugs.co.kr/chart'\n",
    "driver.get(url)\n",
    "\n",
    "html = driver.page_source\n",
    "soup = BeautifulSoup(html, 'html.parser')"
   ]
  },
  {
   "cell_type": "code",
   "execution_count": 8,
   "id": "d09cbf23",
   "metadata": {},
   "outputs": [
    {
     "name": "stdout",
     "output_type": "stream",
     "text": [
      "104\n"
     ]
    }
   ],
   "source": [
    "songs = soup.select('tr')\n",
    "print(len(songs))"
   ]
  },
  {
   "cell_type": "code",
   "execution_count": 9,
   "id": "aa3666b7",
   "metadata": {},
   "outputs": [
    {
     "name": "stdout",
     "output_type": "stream",
     "text": [
      "103\n"
     ]
    }
   ],
   "source": [
    "songs = soup.select('tbody > tr')\n",
    "print(len(songs))"
   ]
  },
  {
   "cell_type": "code",
   "execution_count": 11,
   "id": "794758fc",
   "metadata": {},
   "outputs": [
    {
     "name": "stdout",
     "output_type": "stream",
     "text": [
      "103\n"
     ]
    }
   ],
   "source": [
    "songs = soup.select('table > tbody > tr')\n",
    "print(len(songs))"
   ]
  },
  {
   "cell_type": "code",
   "execution_count": 12,
   "id": "aef21064",
   "metadata": {},
   "outputs": [
    {
     "name": "stdout",
     "output_type": "stream",
     "text": [
      "100\n"
     ]
    }
   ],
   "source": [
    "songs = soup.select('table.byChart > tbody > tr')\n",
    "print(len(songs))"
   ]
  },
  {
   "cell_type": "code",
   "execution_count": 13,
   "id": "fd859402",
   "metadata": {},
   "outputs": [
    {
     "name": "stdout",
     "output_type": "stream",
     "text": [
      "<tr albumid=\"20469610\" artistid=\"80137177\" multiartist=\"N\" mvid=\"608567\" rowtype=\"track\" trackid=\"32549010\">\n",
      "<input name=\"_isStream\" type=\"hidden\" value=\"32549010\"/>\n",
      "<input name=\"_isDown\" type=\"hidden\" value=\"32549010\"/>\n",
      "<td class=\"check\"><input buyminquality=\"T\" disc_id=\"1\" name=\"check\" title=\"물고기\" type=\"checkbox\" value=\"32549010\"/></td>\n",
      "<td>\n",
      "<div class=\"ranking\">\n",
      "<strong>1</strong>\n",
      "<p class=\"change up\"><span class=\"arrow\"></span> <em>1</em> <span>계단 상승</span></p>\n",
      "</div>\n",
      "</td>\n",
      "<td>\n",
      "<a class=\"thumbnail\" href=\"https://music.bugs.co.kr/album/20469610?wl_ref=list_tr_07_chart\" onclick=\"\n",
      "\">\n",
      "<span class=\"mask\"></span>\n",
      "<img alt=\"물고기 대표이미지\" onerror=\"bugs.utils.imgError(this);\" src=\"https://image.bugsm.co.kr/album/images/50/204696/20469610.jpg?version=20220525012208.0\"/>\n",
      "</a>\n",
      "</td>\n",
      "<td>\n",
      "<a class=\"trackInfo\" href=\"https://music.bugs.co.kr/track/32549010?wl_ref=list_tr_08_chart\" onclick=\"\n",
      "\">곡정보</a>\n",
      "</td>\n",
      "<th scope=\"row\">\n",
      "<p adult_yn=\"N\" class=\"title\">\n",
      "<a adultcheckval=\"1\" aria-label=\"새창\" href=\"javascript:;\" onclick=\"bugs.wiselog.area('list_tr_09_chart');bugs.music.listen('32549010',true);\n",
      "\" title=\"물고기\">물고기</a>\n",
      "</p>\n",
      "</th>\n",
      "<td class=\"left\">\n",
      "<p class=\"artist\">\n",
      "<a href=\"https://music.bugs.co.kr/artist/80137177?wl_ref=list_tr_10_chart\" onclick=\"\n",
      "\" title=\"백예린 (Yerin Baek)\">백예린 (Yerin Baek)</a>\n",
      "</p>\n",
      "</td>\n",
      "<td class=\"left\">\n",
      "<a class=\"album\" href=\"https://music.bugs.co.kr/album/20469610?wl_ref=list_tr_11_chart\" onclick=\"\n",
      "\" title=\"물고기\">물고기</a>\n",
      "</td>\n",
      "<td>\n",
      "<a adultcheckval=\"1\" aria-label=\"새창\" class=\"btn play\" href=\"javascript:;\" onclick=\"bugs.wiselog.area('list_tr_12_chart');bugs.music.listen('32549010',true);\n",
      "\">듣기</a>\n",
      "</td>\n",
      "<td>\n",
      "<a adultcheckval=\"1\" aria-label=\"새창\" class=\"btn addPlaylist\" href=\"javascript:;\" onclick=\"bugs.wiselog.area('list_tr_13_chart');bugs.music.listen('32549010');\n",
      "\">재생목록에 추가</a>\n",
      "</td>\n",
      "<td>\n",
      "<a class=\"btn addAlbum\" href=\"javascript:;\" onclick=\"bugs.wiselog.area('list_tr_14_chart');bugs.music.addTrackToMyAlbum(this,'32549010');\n",
      "\" track_title=\"물고기\">내 앨범에 담기</a>\n",
      "</td>\n",
      "<td>\n",
      "<a adultcheckval=\"1\" aria-label=\"새창\" class=\"btn download flac\" href=\"javascript:;\" onclick=\"bugs.wiselog.area('list_tr_15_chart');bugs.layermenu.down(this,'32549010','true','true','44.1','false','', null );\n",
      "\"><em class=\"flac\">flac </em>다운로드</a>\n",
      "</td>\n",
      "<td>\n",
      "<a aria-label=\"새창\" class=\"btn viewMV\" href=\"javascript:;\" onclick=\"bugs.wiselog.area('list_tr_16_chart');\n",
      "bugs.layermenu.mv(this,32549010, 608567, 'Y', 'Y', 'Y', 'Y', 32549010, 'N','ALL', 'Y');\n",
      "\">영상 재생</a>\n",
      "</td>\n",
      "<td>\n",
      "<a artist_disp_nm=\"백예린 (Yerin Baek)\" artist_id=\"80137177\" class=\"btnActions\" href=\"javascript:;\" layer_type=\"CHART\" layerpositiontarget=\"td\" onclick=\"bugs.wiselog.area('list_tr_17_chart');\n",
      "bugs.layermenu.trackMoreAction(this,'32549010','0','20469610','bugs.music.listenRadioFromSeed(\\'32549010\\',\\'track\\');','N', 'Y', '_chart');\n",
      "\" track_title=\"물고기\">기타 기능</a>\n",
      "</td>\n",
      "</tr>\n"
     ]
    }
   ],
   "source": [
    "print(songs[0])"
   ]
  },
  {
   "cell_type": "code",
   "execution_count": 14,
   "id": "1c14b721",
   "metadata": {},
   "outputs": [],
   "source": [
    "song = songs[0]"
   ]
  },
  {
   "cell_type": "code",
   "execution_count": 15,
   "id": "a465224e",
   "metadata": {},
   "outputs": [
    {
     "data": {
      "text/plain": [
       "11"
      ]
     },
     "execution_count": 15,
     "metadata": {},
     "output_type": "execute_result"
    }
   ],
   "source": [
    "title = song.select('a')\n",
    "len(title)"
   ]
  },
  {
   "cell_type": "code",
   "execution_count": 16,
   "id": "51e6a3ba",
   "metadata": {},
   "outputs": [
    {
     "data": {
      "text/plain": [
       "2"
      ]
     },
     "execution_count": 16,
     "metadata": {},
     "output_type": "execute_result"
    }
   ],
   "source": [
    "title = song.select('p > a')\n",
    "len(title)"
   ]
  },
  {
   "cell_type": "code",
   "execution_count": 17,
   "id": "bce741bb",
   "metadata": {},
   "outputs": [
    {
     "data": {
      "text/plain": [
       "1"
      ]
     },
     "execution_count": 17,
     "metadata": {},
     "output_type": "execute_result"
    }
   ],
   "source": [
    "title = song.select('p.title > a')\n",
    "len(title)"
   ]
  },
  {
   "cell_type": "code",
   "execution_count": 18,
   "id": "6cbe2a40",
   "metadata": {},
   "outputs": [
    {
     "data": {
      "text/plain": [
       "'물고기'"
      ]
     },
     "execution_count": 18,
     "metadata": {},
     "output_type": "execute_result"
    }
   ],
   "source": [
    "title = song.select('p.title > a')[0].text\n",
    "title"
   ]
  },
  {
   "cell_type": "code",
   "execution_count": 19,
   "id": "85a64eeb",
   "metadata": {},
   "outputs": [
    {
     "data": {
      "text/plain": [
       "'백예린 (Yerin Baek)'"
      ]
     },
     "execution_count": 19,
     "metadata": {},
     "output_type": "execute_result"
    }
   ],
   "source": [
    "singer = song.select('p.artist > a')[0].text\n",
    "singer"
   ]
  },
  {
   "cell_type": "code",
   "execution_count": 21,
   "id": "25277f28",
   "metadata": {},
   "outputs": [
    {
     "name": "stdout",
     "output_type": "stream",
     "text": [
      "물고기|백예린 (Yerin Baek)\n",
      "LOVE DIVE|IVE (아이브)\n",
      "That That (prod. & feat. SUGA of BTS)|싸이 (PSY)\n",
      "TOMBOY|(여자)아이들\n",
      "FEARLESS|LE SSERAFIM (르세라핌)\n",
      "팡파레|다비치\n",
      "왜 이제와서야 (Why)|황치열\n",
      "그게 나였네|백예린 (Yerin Baek)\n",
      "Skydivin’|원어스 (ONEUS)\n",
      "덤벼 (Bring it on)|원어스 (ONEUS)\n",
      "막내|백예린 (Yerin Baek)\n",
      "사랑인가 봐|멜로망스(MeloMance)\n",
      "Feel My Rhythm|Red Velvet (레드벨벳)\n",
      "늦은 밤 헤어지긴 너무 아쉬워|케이시\n",
      "널 사랑하니까 (Because I Love You)|수지\n",
      "두 눈 빠지도록 (Firebomb)|원어스 (ONEUS)\n",
      "Drive|미연 ((여자)아이들)\n",
      "나의 X에게|경서\n",
      "That's Hilarious|Charlie Puth(찰리 푸스)\n",
      "봄여름가을겨울 (Still Life)|BIGBANG (빅뱅)\n",
      "초록을거머쥔우리는|잔나비\n",
      "Happy Song|멜로망스(MeloMance)\n",
      "정이라고 하자 (Feat. 10CM)|BIG Naughty (서동현)\n",
      "MY BAG|(여자)아이들\n",
      "ELEVEN|IVE (아이브)\n",
      "LOVE me|BE'O (비오)\n",
      "YOU AND I|WSG워너비 조별경연 (대청봉)\n",
      "INVU|태연 (TAEYEON)\n",
      "봄 to 러브|10CM\n",
      "감동이야 (feat. 성시경)|싸이 (PSY)\n",
      "Celeb|싸이 (PSY)\n",
      "ZOOM|제시(Jessi)\n",
      "내 곁에|태연 (TAEYEON)\n",
      "초대|멜로망스(MeloMance)\n",
      "평범한 엔딩 (옥상달빛 X LH 한국토지주택공사)|옥상달빛\n",
      "안녕이란 말|정승환\n",
      "아메리카노 같아 넌|유주 (YUJU)\n",
      "듣고 싶을까|MSG워너비(M.O.M)\n",
      "Weekend|태연 (TAEYEON)\n",
      "신호등|이무진\n",
      "지금 난|오반\n",
      "GANADARA (Feat. 아이유)|박재범\n",
      "밤이 깊었네 (feat. 헤이즈)|싸이 (PSY)\n",
      "취중고백|김민석 (멜로망스)\n",
      "STAY|The Kid LAROI\n",
      "너를 생각해|주시크 (Joosiq)\n",
      "썸 2 (Feat. 정용화)|소유 (SOYOU)\n",
      "마지막 너의 인사|헤이즈(Heize)\n",
      "다정히 내 이름을 부르면|경서예지\n",
      "Seoul|볼빨간사춘기\n",
      "SMILEY (Feat. BIBI)|YENA (최예나)\n",
      "strawberry moon|아이유(IU)\n",
      "Next Level|aespa\n",
      "드라마|아이유(IU)\n",
      "헤엄쳐 (We're in Love)|원어스 (ONEUS)\n",
      "Every Second|Mina Okabe\n",
      "이제는 (feat. 화사)|싸이 (PSY)\n",
      "RUN2U|STAYC(스테이씨)\n",
      "Bye Bye|펀치 (Punch)\n",
      "2step (feat. Lil Baby)|Ed Sheeran(에드 시런)\n",
      "Upside Down|강다니엘(KANG DANIEL)\n",
      "Love story|볼빨간사춘기\n",
      "사랑의 결말은 모 아니면 도 (Yes Or No)|원어스 (ONEUS)\n",
      "여름가을겨울  봄.|잔나비\n",
      "사랑은 늘 도망가|임영웅\n",
      "미친 것처럼|V.O.S.\n",
      "Real Love|오마이걸(OH MY GIRL)\n",
      "Stronger (What Doesn't Kill You)|Kelly Clarkson(켈리 클락슨)\n",
      "Savage|aespa\n",
      "새벽에 핀 별 하나|청하\n",
      "Butter|방탄소년단\n",
      "Light Switch|Charlie Puth(찰리 푸스)\n",
      "Off My Face|Justin Bieber(저스틴 비버)\n",
      "말리지 마|(여자)아이들\n",
      "ONCE AGAIN|윈터 (WINTER)\n",
      "취급주의 (Fragile)|원어스 (ONEUS)\n",
      "스물다섯, 스물하나|자우림(Jaurim)\n",
      "어쩌다 2|브레이브걸스(Brave Girls)\n",
      "사건의 지평선|윤하(Younha/ユンナ)\n",
      "우리들의 블루스|임영웅\n",
      "Dynamite|방탄소년단\n",
      "라일락|아이유(IU)\n",
      "Permission to Dance|방탄소년단\n",
      "Mr. Wolf|원어스 (ONEUS)\n",
      "Celebrity|아이유(IU)\n",
      "O.O|NMIXX\n",
      "Dun Dun Dance|오마이걸(OH MY GIRL)\n",
      "With you|지민\n",
      "회전목마 (Feat. Zion.T, 원슈타인) (Prod. Slom)|sokodomo\n",
      "너의 모든 순간|성시경\n",
      "다시 만날 수 있을까|임영웅\n",
      "기억해 줘요|다비치\n",
      "As It Was|Harry Styles(해리 스타일스)\n",
      "DM|프로미스나인\n",
      "Step Back|GOT the beat\n",
      "존재만으로|원슈타인\n",
      "All 4 Nothing (I'm So In Love)|Lauv(라우브)\n",
      "슬픔이여안녕|잔나비\n",
      "Blueming|아이유(IU)\n",
      "멜로를 좋아해|포맨 (4MEN)\n"
     ]
    }
   ],
   "source": [
    "songs = soup.select('table.byChart > tbody > tr')\n",
    "\n",
    "for song in songs:\n",
    "    title = song.select('p.title > a')[0].text\n",
    "    singer = song.select('p.artist > a')[0].text\n",
    "    print(title, singer, sep='|')"
   ]
  },
  {
   "cell_type": "code",
   "execution_count": 23,
   "id": "3cd1c0d3",
   "metadata": {},
   "outputs": [],
   "source": [
    "song_data = []\n",
    "rank = 1\n",
    "songs = soup.select('table.byChart > tbody > tr')\n",
    "\n",
    "for song in songs:\n",
    "    title = song.select('p.title > a')[0].text\n",
    "    singer = song.select('p.artist > a')[0].text\n",
    "    song_data.append(['Bugs', rank, title, singer])\n",
    "    rank = rank + 1"
   ]
  },
  {
   "cell_type": "code",
   "execution_count": 25,
   "id": "71ded150",
   "metadata": {},
   "outputs": [
    {
     "name": "stdout",
     "output_type": "stream",
     "text": [
      "<class 'pandas.core.frame.DataFrame'>\n",
      "RangeIndex: 100 entries, 0 to 99\n",
      "Data columns (total 4 columns):\n",
      " #   Column  Non-Null Count  Dtype \n",
      "---  ------  --------------  ----- \n",
      " 0   서비스     100 non-null    object\n",
      " 1   순위      100 non-null    int64 \n",
      " 2   타이틀     100 non-null    object\n",
      " 3   가수      100 non-null    object\n",
      "dtypes: int64(1), object(3)\n",
      "memory usage: 3.2+ KB\n"
     ]
    }
   ],
   "source": [
    "import pandas as pd\n",
    "columns = ['서비스', '순위', '타이틀', '가수']\n",
    "pd_data = pd.DataFrame(song_data, columns=columns)\n",
    "pd_data.info()"
   ]
  },
  {
   "cell_type": "code",
   "execution_count": 26,
   "id": "a90e43ea",
   "metadata": {},
   "outputs": [],
   "source": [
    "pd_data.to_excel('./bugs_char.xlsx', index=False)"
   ]
  },
  {
   "cell_type": "code",
   "execution_count": 27,
   "id": "96dee264",
   "metadata": {},
   "outputs": [
    {
     "name": "stderr",
     "output_type": "stream",
     "text": [
      "<ipython-input-27-49f6700651c8>:5: DeprecationWarning: executable_path has been deprecated, please pass in a Service object\n",
      "  driver = webdriver.Chrome('C:/Users/김이현/Desktop/projects/data_analysis/Pyhon/실무_파이썬_예제/chromedriver.exe')\n"
     ]
    }
   ],
   "source": [
    "#지니 크롤링 결과 엑셀로 저장하기\n",
    "from selenium import webdriver\n",
    "from bs4 import BeautifulSoup\n",
    "\n",
    "driver = webdriver.Chrome('./chromedriver.exe')\n",
    "url = 'http://www.genie.co.kr/chart/top200'\n",
    "driver.get(url)\n",
    "\n",
    "html = driver.page_source\n",
    "soup = BeautifulSoup(html, 'html.parser')"
   ]
  },
  {
   "cell_type": "code",
   "execution_count": 29,
   "id": "d374e32a",
   "metadata": {},
   "outputs": [
    {
     "name": "stdout",
     "output_type": "stream",
     "text": [
      "50\n"
     ]
    }
   ],
   "source": [
    "songs = soup.select('table > tbody > tr')\n",
    "print(len(songs))"
   ]
  },
  {
   "cell_type": "code",
   "execution_count": 30,
   "id": "1a15d9db",
   "metadata": {},
   "outputs": [
    {
     "name": "stdout",
     "output_type": "stream",
     "text": [
      "<tr class=\"list\" songid=\"96664100\">\n",
      "<td class=\"check\"><input class=\"select-check\" title=\"That That (Prod. &amp; Feat. SUGA of BTS)\" type=\"checkbox\"/></td>\n",
      "<td class=\"number\">1\n",
      "                                        \n",
      "                                    <span class=\"rank\">\n",
      "<span class=\"rank\"><span class=\"rank-none\"><span class=\"hide\">유지</span></span></span>\n",
      "</span>\n",
      "</td>\n",
      "<td><a class=\"cover\" href=\"#\" onclick=\"fnViewAlbumLayer('82662688');return false;\"><span class=\"mask\"></span><img alt=\"싸다9\" onerror=\"this.src='//image.genie.co.kr/imageg/web/common/blank_68.gif';\" src=\"//image.genie.co.kr/Y/IMAGE/IMG_ALBUM/082/662/688/82662688_1651196114166_1_140x140.JPG/dims/resize/Q_80,0\"/></a></td>\n",
      "<td class=\"link\"><a class=\"btn-basic btn-info\" href=\"#\" onclick=\"fnViewSongInfo('96664100');return false;\">곡 제목 정보 페이지</a></td>\n",
      "<td class=\"info\">\n",
      "<a class=\"title ellipsis\" href=\"#\" onclick=\"fnPlaySong('96664100','1');return false;\" title=\"재생\">\n",
      "                                        \n",
      "                                            \n",
      "                                        \n",
      "                                        \n",
      "                                        \n",
      "                                        \n",
      "                                            \n",
      "                                                That That (Prod. &amp; Feat. SUGA of BTS)</a>\n",
      "<a class=\"artist ellipsis\" href=\"#\" onclick=\"fnViewArtist('14945898');return false;\">싸이 (Psy)</a>\n",
      "<div class=\"toggle-button-box\">\n",
      "<button class=\"btn artist-etc\" onclick=\"fnRelationArtistList('96664100');\" type=\"button\">외</button>\n",
      "<ul class=\"list\" id=\"RelationArtist_96664100\"></ul>\n",
      "</div>\n",
      "<i class=\"bar\">|</i>\n",
      "<a class=\"albumtitle ellipsis\" href=\"#\" onclick=\"fnViewAlbumLayer('82662688');return false;\">싸다9</a>\n",
      "</td>\n",
      "<td class=\"btns\"><a class=\"btn-basic btn-listen\" href=\"#\" onclick=\"fnPlaySong('96664100;' ,'1'); return false;\" title=\"재생\">듣기</a></td>\n",
      "<td class=\"btns\"><a class=\"btn-basic btn-add\" href=\"#\" onclick=\"fnPlaySong('96664100;' ,'3'); return false;\" title=\"추가\">재생목록에 추가</a></td>\n",
      "<td class=\"btns\"><button class=\"btn-basic btn-album\" id=\"add_my_album_96664100\" onclick=\"fnAddMyAlbumForm('#add_my_album_96664100' , '96664100' ,10, 10);return false;\" songid=\"96664100\" type=\"button\">플레이리스트에 담기</button></td>\n",
      "<td class=\"btns\"><a class=\"btn-basic btn-down\" href=\"#\" onclick=\"fnDownSong('96664100');return false;\" title=\"다운\">다운로드</a></td>\n",
      "<td class=\"btns\">\n",
      "<div class=\"toggle-button-box lyr-mv\" id=\"list-mv_96664100\">\n",
      "<a alt=\"That That (Prod. &amp; Feat. SUGA of BTS)\" class=\"btn btn-basic btn-mv\" href=\"#\" onclick=\"fnPlayMv('96664100','3'); return false;\" title=\"뮤비\">뮤직비디오 보기</a>\n",
      "</div>\n",
      "</td>\n",
      "<td class=\"more\">\n",
      "<div class=\"toggle-button-box\">\n",
      "<button class=\"btn btn-basic btn-more\" type=\"button\">더보기</button>\n",
      "<ul class=\"list\">\n",
      "<li><a class=\"item\" href=\"#\" onclick=\"shareDo('96664100');return false;\" title=\"공유\">공유하기/음악나누기</a></li>\n",
      "<li><a class=\"item\" href=\"#\" onclick=\"fnGiftSong('96664100');return false;\" title=\"선물\">선물하기</a></li>\n",
      "</ul>\n",
      "</div>\n",
      "</td>\n",
      "</tr>\n"
     ]
    }
   ],
   "source": [
    "print(songs[0])"
   ]
  },
  {
   "cell_type": "code",
   "execution_count": 31,
   "id": "4698ab54",
   "metadata": {},
   "outputs": [],
   "source": [
    "song = songs[0]"
   ]
  },
  {
   "cell_type": "code",
   "execution_count": 32,
   "id": "2cacdd75",
   "metadata": {},
   "outputs": [
    {
     "data": {
      "text/plain": [
       "1"
      ]
     },
     "execution_count": 32,
     "metadata": {},
     "output_type": "execute_result"
    }
   ],
   "source": [
    "title = song.select('a.title')\n",
    "len(title)"
   ]
  },
  {
   "cell_type": "code",
   "execution_count": 33,
   "id": "ab81e0e1",
   "metadata": {},
   "outputs": [
    {
     "data": {
      "text/plain": [
       "'\\n                                        \\n                                            \\n                                        \\n                                        \\n                                        \\n                                        \\n                                            \\n                                                That That (Prod. & Feat. SUGA of BTS)'"
      ]
     },
     "execution_count": 33,
     "metadata": {},
     "output_type": "execute_result"
    }
   ],
   "source": [
    "title = song.select('a.title')[0].text\n",
    "title"
   ]
  },
  {
   "cell_type": "code",
   "execution_count": 34,
   "id": "85d91dbf",
   "metadata": {},
   "outputs": [
    {
     "data": {
      "text/plain": [
       "'That That (Prod. & Feat. SUGA of BTS)'"
      ]
     },
     "execution_count": 34,
     "metadata": {},
     "output_type": "execute_result"
    }
   ],
   "source": [
    "title = song.select('a.title')[0].text.strip()\n",
    "title"
   ]
  },
  {
   "cell_type": "code",
   "execution_count": 35,
   "id": "4d8dbf1f",
   "metadata": {},
   "outputs": [
    {
     "data": {
      "text/plain": [
       "'싸이 (Psy)'"
      ]
     },
     "execution_count": 35,
     "metadata": {},
     "output_type": "execute_result"
    }
   ],
   "source": [
    "singer = song.select('a.artist')[0].text\n",
    "singer"
   ]
  },
  {
   "cell_type": "code",
   "execution_count": 36,
   "id": "cc0c93fa",
   "metadata": {},
   "outputs": [
    {
     "name": "stdout",
     "output_type": "stream",
     "text": [
      "That That (Prod. & Feat. SUGA of BTS)|싸이 (Psy)\n",
      "TOMBOY|(여자)아이들\n",
      "LOVE DIVE|IVE (아이브)\n",
      "사랑인가 봐|멜로망스 (MeloMance)\n",
      "봄여름가을겨울 (Still Life)|BIGBANG (빅뱅)\n",
      "사랑은 늘 도망가|임영웅\n",
      "나의 X에게|경서\n",
      "LOVE me|BE'O (비오)\n",
      "우리들의 블루스|임영웅\n",
      "FEARLESS|LE SSERAFIM (르세라핌)\n",
      "다시 만날 수 있을까|임영웅\n",
      "ZOOM|제시\n",
      "Feel My Rhythm|Red Velvet (레드벨벳)\n",
      "취중고백|김민석 (멜로망스)\n",
      "이제 나만 믿어요|임영웅\n",
      "정이라고 하자 (Feat. 10CM)|BIG Naughty (서동현)\n",
      "신호등|이무진\n",
      "무지개|임영웅\n",
      "아버지|임영웅\n",
      "GANADARA (Feat. 아이유)|박재범\n",
      "다정히 내 이름을 부르면|경서예지 & 전건호\n",
      "A bientot|임영웅\n",
      "MY BAG|(여자)아이들\n",
      "손이 참 곱던 그대|임영웅\n",
      "사랑해 진짜|임영웅\n",
      "사랑역|임영웅\n",
      "연애편지|임영웅\n",
      "보금자리|임영웅\n",
      "사랑해요 그대를|임영웅\n",
      "INVU|태연 (TAEYEON)\n",
      "듣고 싶을까|MSG워너비 (M.O.M)\n",
      "인생찬가|임영웅\n",
      "지금 난|오반\n",
      "ELEVEN|IVE (아이브)\n",
      "Stay|The Kid LAROI & Justin Bieber\n",
      "Celeb|싸이 (Psy)\n",
      "That's Hilarious|Charlie Puth\n",
      "회전목마 (Feat. Zion.T & 원슈타인) (Prod. by Slom)|sokodomo\n",
      "19금\n",
      "                                        \n",
      "                                        \n",
      "                                        \n",
      "                                            \n",
      "                                                abcdefu|GAYLE\n",
      "팡파레|다비치\n",
      "언제나 사랑해|케이시 (Kassy)\n",
      "늦은 밤 헤어지긴 너무 아쉬워|케이시 (Kassy)\n",
      "strawberry moon|아이유 (IU)\n",
      "내가 아니라도|주호\n",
      "리무진 (Feat. MINO) (Prod. by GRAY)|BE'O (비오)\n",
      "스물다섯, 스물하나|자우림\n",
      "Stronger (What Doesn't Kill You)|Kelly Clarkson\n",
      "너를 생각해|주시크 (Joosiq)\n",
      "Next Level|aespa\n",
      "Weekend|태연 (TAEYEON)\n"
     ]
    }
   ],
   "source": [
    "songs= soup.select('tbody > tr')\n",
    "for song in songs:\n",
    "    title = song.select('a.title')[0].text.strip()\n",
    "    singer = song.select('a.artist')[0].text\n",
    "    print(title, singer, sep='|')"
   ]
  },
  {
   "cell_type": "code",
   "execution_count": 38,
   "id": "b12f32d1",
   "metadata": {},
   "outputs": [],
   "source": [
    "song_data = []\n",
    "rank = 1\n",
    "songs = soup.select('tbody > tr')\n",
    "\n",
    "for song in songs:\n",
    "    title = song.select('a.title')[0].text.strip()\n",
    "    singer = song.select('a.artist')[0].text\n",
    "    song_data.append(['Genie', rank, title, singer])\n",
    "    rank = rank + 1"
   ]
  },
  {
   "cell_type": "code",
   "execution_count": 39,
   "id": "e1cd824d",
   "metadata": {},
   "outputs": [],
   "source": [
    "import pandas as pd\n",
    "\n",
    "columns = ['서비스', '순위', '타이틀', '가수']\n",
    "pd_data = pd.DataFrame(song_data, columns=columns)\n",
    "pd_data.to_excel('./genie_chart.xlsx', index=False)"
   ]
  },
  {
   "cell_type": "code",
   "execution_count": null,
   "id": "a9773751",
   "metadata": {},
   "outputs": [],
   "source": []
  },
  {
   "cell_type": "code",
   "execution_count": 42,
   "id": "ad1610cf",
   "metadata": {},
   "outputs": [],
   "source": [
    "#멜론, 벅스. 지니 크로링 엑셀 파일 통합하기\n",
    "import pandas as pd\n",
    "excel_names = ['./melon_chart.xlsx', './bugs_chart.xlsx', './genie_chart.xlsx']\n",
    "\n",
    "appended_data = pd.DataFrame()\n",
    "for name in excel_names:\n",
    "    pd_data = pd.read_excel(name)\n",
    "    appended_data = appended_data.append(pd_data)"
   ]
  },
  {
   "cell_type": "code",
   "execution_count": 43,
   "id": "56c69139",
   "metadata": {},
   "outputs": [
    {
     "name": "stdout",
     "output_type": "stream",
     "text": [
      "<class 'pandas.core.frame.DataFrame'>\n",
      "Int64Index: 250 entries, 0 to 49\n",
      "Data columns (total 4 columns):\n",
      " #   Column  Non-Null Count  Dtype \n",
      "---  ------  --------------  ----- \n",
      " 0   서비스     250 non-null    object\n",
      " 1   순위      250 non-null    int64 \n",
      " 2   타이틀     250 non-null    object\n",
      " 3   가수      250 non-null    object\n",
      "dtypes: int64(1), object(3)\n",
      "memory usage: 9.8+ KB\n"
     ]
    }
   ],
   "source": [
    "appended_data.info()"
   ]
  },
  {
   "cell_type": "code",
   "execution_count": 44,
   "id": "18526a06",
   "metadata": {},
   "outputs": [],
   "source": [
    "appended_data.to_excel('./total.xlsx', index=False)"
   ]
  },
  {
   "cell_type": "code",
   "execution_count": null,
   "id": "957e78fb",
   "metadata": {},
   "outputs": [],
   "source": []
  }
 ],
 "metadata": {
  "kernelspec": {
   "display_name": "Python 3",
   "language": "python",
   "name": "python3"
  },
  "language_info": {
   "codemirror_mode": {
    "name": "ipython",
    "version": 3
   },
   "file_extension": ".py",
   "mimetype": "text/x-python",
   "name": "python",
   "nbconvert_exporter": "python",
   "pygments_lexer": "ipython3",
   "version": "3.8.8"
  }
 },
 "nbformat": 4,
 "nbformat_minor": 5
}
